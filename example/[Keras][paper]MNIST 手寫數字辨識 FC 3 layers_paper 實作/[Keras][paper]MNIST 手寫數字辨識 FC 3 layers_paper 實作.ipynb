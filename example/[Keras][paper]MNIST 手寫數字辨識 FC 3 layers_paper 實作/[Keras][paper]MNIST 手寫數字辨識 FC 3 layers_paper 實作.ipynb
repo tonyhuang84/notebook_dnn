{
 "cells": [
  {
   "cell_type": "markdown",
   "metadata": {},
   "source": [
    "source: http://scs.ryerson.ca/~aharley/vis/"
   ]
  },
  {
   "cell_type": "markdown",
   "metadata": {},
   "source": [
    "* 論文中關於 fully-connected network 描述  \n",
    "  \"a fully-connected network was trained, with 784 nodes on the bottom\n",
    "layer (corresponding to pixels),  \n",
    "300 nodes in the first hidden layer,  \n",
    "100 nodes in the second hidden layer, and  \n",
    "10 nodes in the output layer (corresponding to the 10 digits). \"   \n",
    "<br>\n",
    "* input layer: 784 = 28 x 28 pixels\n",
    "* layer 1: fc, 300 nodes\n",
    "* layer 2: fc, 100 nodes\n",
    "* output layer 3: fc, 10 nodes\n",
    "* 整篇論文並沒有說明採用哪種 activation function, loss function, optimizer"
   ]
  },
  {
   "cell_type": "code",
   "execution_count": 1,
   "metadata": {},
   "outputs": [
    {
     "name": "stderr",
     "output_type": "stream",
     "text": [
      "Using TensorFlow backend.\n"
     ]
    }
   ],
   "source": [
    "import numpy as np\n",
    "np.random.seed(1337)  # for reproducibility\n",
    "from keras.datasets import mnist\n",
    "from keras.utils import np_utils\n",
    "from keras.models import Sequential\n",
    "from keras.layers import Dense, Activation\n",
    "from keras.optimizers import RMSprop\n",
    "from matplotlib import pyplot as plt\n",
    "from IPython.display import SVG\n",
    "from keras.utils.vis_utils import model_to_dot"
   ]
  },
  {
   "cell_type": "code",
   "execution_count": 2,
   "metadata": {},
   "outputs": [
    {
     "name": "stdout",
     "output_type": "stream",
     "text": [
      "(60000, 28, 28)\n",
      "(10000, 28, 28)\n"
     ]
    }
   ],
   "source": [
    "# download the mnist to the path '~/.keras/datasets/' if it is the first time to be called\n",
    "# X shape (60,000 28x28), y shape (10,000, )\n",
    "(X_train_org, y_train), (X_test_org, y_test) = mnist.load_data()\n",
    "\n",
    "print X_train_org.shape\n",
    "print X_test_org.shape"
   ]
  },
  {
   "cell_type": "code",
   "execution_count": 3,
   "metadata": {},
   "outputs": [
    {
     "name": "stdout",
     "output_type": "stream",
     "text": [
      "(60000, 784)\n"
     ]
    }
   ],
   "source": [
    "# data pre-processing\n",
    "X_train = X_train_org.reshape(X_train_org.shape[0], -1) / 255.   # normalize\n",
    "X_test = X_test_org.reshape(X_test_org.shape[0], -1) / 255.      # normalize\n",
    "y_train = np_utils.to_categorical(y_train, num_classes=10)\n",
    "y_test = np_utils.to_categorical(y_test, num_classes=10)\n",
    "\n",
    "print X_train.shape"
   ]
  },
  {
   "cell_type": "code",
   "execution_count": 4,
   "metadata": {},
   "outputs": [
    {
     "name": "stdout",
     "output_type": "stream",
     "text": [
      "Layer len:3\n"
     ]
    },
    {
     "data": {
      "image/svg+xml": [
       "<svg height=\"304pt\" viewBox=\"0.00 0.00 530.00 304.00\" width=\"530pt\" xmlns=\"http://www.w3.org/2000/svg\" xmlns:xlink=\"http://www.w3.org/1999/xlink\">\n",
       "<g class=\"graph\" id=\"graph0\" transform=\"scale(1 1) rotate(0) translate(4 300)\">\n",
       "<title>G</title>\n",
       "<polygon fill=\"white\" points=\"-4,4 -4,-300 526,-300 526,4 -4,4\" stroke=\"none\"/>\n",
       "<!-- 140575358266704 -->\n",
       "<g class=\"node\" id=\"node1\"><title>140575358266704</title>\n",
       "<polygon fill=\"none\" points=\"0,-249.5 0,-295.5 522,-295.5 522,-249.5 0,-249.5\" stroke=\"black\"/>\n",
       "<text font-family=\"Times,serif\" font-size=\"14.00\" text-anchor=\"middle\" x=\"144.5\" y=\"-268.8\">dense_1_input: InputLayer</text>\n",
       "<polyline fill=\"none\" points=\"289,-249.5 289,-295.5 \" stroke=\"black\"/>\n",
       "<text font-family=\"Times,serif\" font-size=\"14.00\" text-anchor=\"middle\" x=\"337\" y=\"-280.3\">input:</text>\n",
       "<polyline fill=\"none\" points=\"289,-272.5 385,-272.5 \" stroke=\"black\"/>\n",
       "<text font-family=\"Times,serif\" font-size=\"14.00\" text-anchor=\"middle\" x=\"337\" y=\"-257.3\">output:</text>\n",
       "<polyline fill=\"none\" points=\"385,-249.5 385,-295.5 \" stroke=\"black\"/>\n",
       "<text font-family=\"Times,serif\" font-size=\"14.00\" text-anchor=\"middle\" x=\"453.5\" y=\"-280.3\">(None, 784)</text>\n",
       "<polyline fill=\"none\" points=\"385,-272.5 522,-272.5 \" stroke=\"black\"/>\n",
       "<text font-family=\"Times,serif\" font-size=\"14.00\" text-anchor=\"middle\" x=\"453.5\" y=\"-257.3\">(None, 784)</text>\n",
       "</g>\n",
       "<!-- 140575358266128 -->\n",
       "<g class=\"node\" id=\"node2\"><title>140575358266128</title>\n",
       "<polygon fill=\"none\" points=\"54,-166.5 54,-212.5 468,-212.5 468,-166.5 54,-166.5\" stroke=\"black\"/>\n",
       "<text font-family=\"Times,serif\" font-size=\"14.00\" text-anchor=\"middle\" x=\"140.5\" y=\"-185.8\">dense_1: Dense</text>\n",
       "<polyline fill=\"none\" points=\"227,-166.5 227,-212.5 \" stroke=\"black\"/>\n",
       "<text font-family=\"Times,serif\" font-size=\"14.00\" text-anchor=\"middle\" x=\"275\" y=\"-197.3\">input:</text>\n",
       "<polyline fill=\"none\" points=\"227,-189.5 323,-189.5 \" stroke=\"black\"/>\n",
       "<text font-family=\"Times,serif\" font-size=\"14.00\" text-anchor=\"middle\" x=\"275\" y=\"-174.3\">output:</text>\n",
       "<polyline fill=\"none\" points=\"323,-166.5 323,-212.5 \" stroke=\"black\"/>\n",
       "<text font-family=\"Times,serif\" font-size=\"14.00\" text-anchor=\"middle\" x=\"395.5\" y=\"-197.3\">(None, 784)</text>\n",
       "<polyline fill=\"none\" points=\"323,-189.5 468,-189.5 \" stroke=\"black\"/>\n",
       "<text font-family=\"Times,serif\" font-size=\"14.00\" text-anchor=\"middle\" x=\"395.5\" y=\"-174.3\">(None, 300)</text>\n",
       "</g>\n",
       "<!-- 140575358266704&#45;&gt;140575358266128 -->\n",
       "<g class=\"edge\" id=\"edge1\"><title>140575358266704-&gt;140575358266128</title>\n",
       "<path d=\"M261,-249.366C261,-241.152 261,-231.658 261,-222.725\" fill=\"none\" stroke=\"black\"/>\n",
       "<polygon fill=\"black\" points=\"264.5,-222.607 261,-212.607 257.5,-222.607 264.5,-222.607\" stroke=\"black\"/>\n",
       "</g>\n",
       "<!-- 140575358266256 -->\n",
       "<g class=\"node\" id=\"node3\"><title>140575358266256</title>\n",
       "<polygon fill=\"none\" points=\"54,-83.5 54,-129.5 468,-129.5 468,-83.5 54,-83.5\" stroke=\"black\"/>\n",
       "<text font-family=\"Times,serif\" font-size=\"14.00\" text-anchor=\"middle\" x=\"140.5\" y=\"-102.8\">dense_2: Dense</text>\n",
       "<polyline fill=\"none\" points=\"227,-83.5 227,-129.5 \" stroke=\"black\"/>\n",
       "<text font-family=\"Times,serif\" font-size=\"14.00\" text-anchor=\"middle\" x=\"275\" y=\"-114.3\">input:</text>\n",
       "<polyline fill=\"none\" points=\"227,-106.5 323,-106.5 \" stroke=\"black\"/>\n",
       "<text font-family=\"Times,serif\" font-size=\"14.00\" text-anchor=\"middle\" x=\"275\" y=\"-91.3\">output:</text>\n",
       "<polyline fill=\"none\" points=\"323,-83.5 323,-129.5 \" stroke=\"black\"/>\n",
       "<text font-family=\"Times,serif\" font-size=\"14.00\" text-anchor=\"middle\" x=\"395.5\" y=\"-114.3\">(None, 300)</text>\n",
       "<polyline fill=\"none\" points=\"323,-106.5 468,-106.5 \" stroke=\"black\"/>\n",
       "<text font-family=\"Times,serif\" font-size=\"14.00\" text-anchor=\"middle\" x=\"395.5\" y=\"-91.3\">(None, 100)</text>\n",
       "</g>\n",
       "<!-- 140575358266128&#45;&gt;140575358266256 -->\n",
       "<g class=\"edge\" id=\"edge2\"><title>140575358266128-&gt;140575358266256</title>\n",
       "<path d=\"M261,-166.366C261,-158.152 261,-148.658 261,-139.725\" fill=\"none\" stroke=\"black\"/>\n",
       "<polygon fill=\"black\" points=\"264.5,-139.607 261,-129.607 257.5,-139.607 264.5,-139.607\" stroke=\"black\"/>\n",
       "</g>\n",
       "<!-- 140575358266576 -->\n",
       "<g class=\"node\" id=\"node4\"><title>140575358266576</title>\n",
       "<polygon fill=\"none\" points=\"54,-0.5 54,-46.5 468,-46.5 468,-0.5 54,-0.5\" stroke=\"black\"/>\n",
       "<text font-family=\"Times,serif\" font-size=\"14.00\" text-anchor=\"middle\" x=\"140.5\" y=\"-19.8\">dense_3: Dense</text>\n",
       "<polyline fill=\"none\" points=\"227,-0.5 227,-46.5 \" stroke=\"black\"/>\n",
       "<text font-family=\"Times,serif\" font-size=\"14.00\" text-anchor=\"middle\" x=\"275\" y=\"-31.3\">input:</text>\n",
       "<polyline fill=\"none\" points=\"227,-23.5 323,-23.5 \" stroke=\"black\"/>\n",
       "<text font-family=\"Times,serif\" font-size=\"14.00\" text-anchor=\"middle\" x=\"275\" y=\"-8.3\">output:</text>\n",
       "<polyline fill=\"none\" points=\"323,-0.5 323,-46.5 \" stroke=\"black\"/>\n",
       "<text font-family=\"Times,serif\" font-size=\"14.00\" text-anchor=\"middle\" x=\"395.5\" y=\"-31.3\">(None, 100)</text>\n",
       "<polyline fill=\"none\" points=\"323,-23.5 468,-23.5 \" stroke=\"black\"/>\n",
       "<text font-family=\"Times,serif\" font-size=\"14.00\" text-anchor=\"middle\" x=\"395.5\" y=\"-8.3\">(None, 10)</text>\n",
       "</g>\n",
       "<!-- 140575358266256&#45;&gt;140575358266576 -->\n",
       "<g class=\"edge\" id=\"edge3\"><title>140575358266256-&gt;140575358266576</title>\n",
       "<path d=\"M261,-83.3664C261,-75.1516 261,-65.6579 261,-56.7252\" fill=\"none\" stroke=\"black\"/>\n",
       "<polygon fill=\"black\" points=\"264.5,-56.6068 261,-46.6068 257.5,-56.6069 264.5,-56.6068\" stroke=\"black\"/>\n",
       "</g>\n",
       "</g>\n",
       "</svg>"
      ],
      "text/plain": [
       "<IPython.core.display.SVG object>"
      ]
     },
     "execution_count": 4,
     "metadata": {},
     "output_type": "execute_result"
    }
   ],
   "source": [
    "model = Sequential()\n",
    "model.add(Dense(300, activation='relu', input_dim=784))\n",
    "model.add(Dense(100, activation='relu'))\n",
    "model.add(Dense(10, activation='softmax'))\n",
    "          \n",
    "#model.summary()\n",
    "print(\"Layer len:%d\" % (len(model.layers)))\n",
    "SVG(model_to_dot(model, show_shapes=True).create(prog='dot', format='svg'))"
   ]
  },
  {
   "cell_type": "code",
   "execution_count": 6,
   "metadata": {},
   "outputs": [],
   "source": [
    "model.compile(optimizer='sgd',\n",
    "              loss='categorical_crossentropy',\n",
    "              metrics=['accuracy'])"
   ]
  },
  {
   "cell_type": "code",
   "execution_count": 7,
   "metadata": {},
   "outputs": [
    {
     "name": "stdout",
     "output_type": "stream",
     "text": [
      "Training ------------\n",
      "Epoch 1/5\n",
      "60000/60000 [==============================] - 11s 183us/step - loss: 0.5770 - acc: 0.8497\n",
      "Epoch 2/5\n",
      "60000/60000 [==============================] - 11s 184us/step - loss: 0.2770 - acc: 0.9219\n",
      "Epoch 3/5\n",
      "60000/60000 [==============================] - 11s 188us/step - loss: 0.2248 - acc: 0.9365\n",
      "Epoch 4/5\n",
      "60000/60000 [==============================] - 11s 190us/step - loss: 0.1909 - acc: 0.9457\n",
      "Epoch 5/5\n",
      "60000/60000 [==============================] - 11s 184us/step - loss: 0.1656 - acc: 0.9527\n"
     ]
    },
    {
     "data": {
      "text/plain": [
       "<keras.callbacks.History at 0x7fda22546b90>"
      ]
     },
     "execution_count": 7,
     "metadata": {},
     "output_type": "execute_result"
    }
   ],
   "source": [
    "print('Training ------------')\n",
    "model.fit(X_train, y_train, epochs=5, batch_size=32)"
   ]
  },
  {
   "cell_type": "code",
   "execution_count": 9,
   "metadata": {},
   "outputs": [
    {
     "name": "stdout",
     "output_type": "stream",
     "text": [
      "Testing ------------\n",
      "10000/10000 [==============================] - 1s 72us/step\n",
      "('test loss: ', 0.15686910893470049)\n",
      "('test accuracy: ', 0.95520000000000005)\n"
     ]
    }
   ],
   "source": [
    "print('Testing ------------')\n",
    "loss, accuracy = model.evaluate(X_test, y_test)\n",
    "\n",
    "print('test loss: ', loss)\n",
    "print('test accuracy: ', accuracy)"
   ]
  },
  {
   "cell_type": "code",
   "execution_count": 10,
   "metadata": {},
   "outputs": [
    {
     "name": "stdout",
     "output_type": "stream",
     "text": [
      "y_test[0]:array([ 0.,  0.,  0.,  0.,  0.,  0.,  0.,  1.,  0.,  0.])\n",
      "predict[0]:array([  7.19878808e-05,   3.55907673e-07,   2.96686660e-03,\n",
      "         3.41797015e-03,   1.16092326e-06,   3.85359745e-05,\n",
      "         8.43044567e-09,   9.93368447e-01,   3.47081368e-05,\n",
      "         1.00016405e-04], dtype=float32)\n"
     ]
    },
    {
     "data": {
      "text/plain": [
       "<matplotlib.image.AxesImage at 0x7fda20fb2250>"
      ]
     },
     "execution_count": 10,
     "metadata": {},
     "output_type": "execute_result"
    },
    {
     "data": {
      "image/png": "[encoded data removed]",
      "text/plain": [
       "<matplotlib.figure.Figure at 0x7fda20fdbf90>"
      ]
     },
     "metadata": {},
     "output_type": "display_data"
    }
   ],
   "source": [
    "my_test = X_test[0].reshape(1, X_test.shape[1])\n",
    "predict = model.predict(my_test)\n",
    "\n",
    "print(\"y_test[0]:%r\" % (y_test[0]))\n",
    "print(\"predict[0]:%r\" % (predict[0]))\n",
    "plt.imshow(X_test_org[0])"
   ]
  },
  {
   "cell_type": "code",
   "execution_count": null,
   "metadata": {},
   "outputs": [],
   "source": []
  }
 ],
 "metadata": {
  "kernelspec": {
   "display_name": "Python 2",
   "language": "python",
   "name": "python2"
  },
  "language_info": {
   "codemirror_mode": {
    "name": "ipython",
    "version": 2
   },
   "file_extension": ".py",
   "mimetype": "text/x-python",
   "name": "python",
   "nbconvert_exporter": "python",
   "pygments_lexer": "ipython2",
   "version": "2.7.14"
  }
 },
 "nbformat": 4,
 "nbformat_minor": 2
}
