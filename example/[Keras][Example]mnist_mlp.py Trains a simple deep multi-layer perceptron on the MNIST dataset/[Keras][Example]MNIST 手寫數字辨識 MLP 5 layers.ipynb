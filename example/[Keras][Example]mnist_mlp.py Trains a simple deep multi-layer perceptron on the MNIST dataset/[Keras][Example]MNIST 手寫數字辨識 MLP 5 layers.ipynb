{
 "cells": [
  {
   "cell_type": "markdown",
   "metadata": {},
   "source": [
    "source: https://github.com/keras-team/keras/blob/master/examples/mnist_mlp.py"
   ]
  },
  {
   "cell_type": "code",
   "execution_count": 1,
   "metadata": {},
   "outputs": [
    {
     "name": "stderr",
     "output_type": "stream",
     "text": [
      "Using TensorFlow backend.\n"
     ]
    }
   ],
   "source": [
    "from __future__ import print_function\n",
    "\n",
    "import keras\n",
    "from keras.datasets import mnist\n",
    "from keras.models import Sequential\n",
    "from keras.layers import Dense, Dropout\n",
    "from keras.optimizers import RMSprop\n",
    "\n",
    "batch_size = 128\n",
    "num_classes = 10\n",
    "epochs = 20"
   ]
  },
  {
   "cell_type": "code",
   "execution_count": 2,
   "metadata": {},
   "outputs": [
    {
     "name": "stdout",
     "output_type": "stream",
     "text": [
      "60000 train samples\n",
      "10000 test samples\n"
     ]
    }
   ],
   "source": [
    "# the data, shuffled and split between train and test sets\n",
    "(x_train, y_train), (x_test, y_test) = mnist.load_data()\n",
    "\n",
    "x_train = x_train.reshape(60000, 784)\n",
    "x_test = x_test.reshape(10000, 784)\n",
    "x_train = x_train.astype('float32')\n",
    "x_test = x_test.astype('float32')\n",
    "x_train /= 255\n",
    "x_test /= 255\n",
    "print(x_train.shape[0], 'train samples')\n",
    "print(x_test.shape[0], 'test samples')\n",
    "\n",
    "# convert class vectors to binary class matrices\n",
    "y_train = keras.utils.to_categorical(y_train, num_classes)\n",
    "y_test = keras.utils.to_categorical(y_test, num_classes)"
   ]
  },
  {
   "cell_type": "code",
   "execution_count": 3,
   "metadata": {},
   "outputs": [
    {
     "name": "stdout",
     "output_type": "stream",
     "text": [
      "_________________________________________________________________\n",
      "Layer (type)                 Output Shape              Param #   \n",
      "=================================================================\n",
      "dense_1 (Dense)              (None, 512)               401920    \n",
      "_________________________________________________________________\n",
      "dropout_1 (Dropout)          (None, 512)               0         \n",
      "_________________________________________________________________\n",
      "dense_2 (Dense)              (None, 512)               262656    \n",
      "_________________________________________________________________\n",
      "dropout_2 (Dropout)          (None, 512)               0         \n",
      "_________________________________________________________________\n",
      "dense_3 (Dense)              (None, 10)                5130      \n",
      "=================================================================\n",
      "Total params: 669,706\n",
      "Trainable params: 669,706\n",
      "Non-trainable params: 0\n",
      "_________________________________________________________________\n",
      "Layer len: 5\n"
     ]
    }
   ],
   "source": [
    "model = Sequential()\n",
    "model.add(Dense(512, activation='relu', input_shape=(784,)))\n",
    "model.add(Dropout(0.2))\n",
    "model.add(Dense(512, activation='relu'))\n",
    "model.add(Dropout(0.2))\n",
    "model.add(Dense(num_classes, activation='softmax'))\n",
    "\n",
    "model.summary()\n",
    "print(\"Layer len: %d\" % (len(model.layers)))"
   ]
  },
  {
   "cell_type": "code",
   "execution_count": 4,
   "metadata": {},
   "outputs": [],
   "source": [
    "model.compile(loss='categorical_crossentropy',\n",
    "              optimizer=RMSprop(),\n",
    "              metrics=['accuracy'])"
   ]
  },
  {
   "cell_type": "code",
   "execution_count": 5,
   "metadata": {},
   "outputs": [
    {
     "name": "stdout",
     "output_type": "stream",
     "text": [
      "Train on 60000 samples, validate on 10000 samples\n",
      "Epoch 1/20\n",
      "60000/60000 [==============================] - 25s 420us/step - loss: 0.2446 - acc: 0.9251 - val_loss: 0.1142 - val_acc: 0.9634\n",
      "Epoch 2/20\n",
      "60000/60000 [==============================] - 26s 428us/step - loss: 0.1024 - acc: 0.9686 - val_loss: 0.0943 - val_acc: 0.9728\n",
      "Epoch 3/20\n",
      "60000/60000 [==============================] - 25s 421us/step - loss: 0.0733 - acc: 0.9787 - val_loss: 0.0746 - val_acc: 0.9781\n",
      "Epoch 4/20\n",
      "60000/60000 [==============================] - 26s 428us/step - loss: 0.0607 - acc: 0.9815 - val_loss: 0.0840 - val_acc: 0.9792\n",
      "Epoch 5/20\n",
      "60000/60000 [==============================] - 26s 433us/step - loss: 0.0499 - acc: 0.9848 - val_loss: 0.0850 - val_acc: 0.9768\n",
      "Epoch 6/20\n",
      "60000/60000 [==============================] - 25s 418us/step - loss: 0.0443 - acc: 0.9871 - val_loss: 0.0700 - val_acc: 0.9823\n",
      "Epoch 7/20\n",
      "60000/60000 [==============================] - 26s 432us/step - loss: 0.0393 - acc: 0.9886 - val_loss: 0.0784 - val_acc: 0.9803\n",
      "Epoch 8/20\n",
      "60000/60000 [==============================] - 22s 374us/step - loss: 0.0333 - acc: 0.9897 - val_loss: 0.0801 - val_acc: 0.9814\n",
      "Epoch 9/20\n",
      "60000/60000 [==============================] - 22s 375us/step - loss: 0.0306 - acc: 0.9907 - val_loss: 0.0753 - val_acc: 0.9826\n",
      "Epoch 10/20\n",
      "60000/60000 [==============================] - 25s 424us/step - loss: 0.0293 - acc: 0.9917 - val_loss: 0.0888 - val_acc: 0.9815\n",
      "Epoch 11/20\n",
      "60000/60000 [==============================] - 26s 429us/step - loss: 0.0267 - acc: 0.9924 - val_loss: 0.0950 - val_acc: 0.9825\n",
      "Epoch 12/20\n",
      "60000/60000 [==============================] - 26s 425us/step - loss: 0.0246 - acc: 0.9923 - val_loss: 0.0891 - val_acc: 0.9834\n",
      "Epoch 13/20\n",
      "60000/60000 [==============================] - 23s 380us/step - loss: 0.0231 - acc: 0.9937 - val_loss: 0.1176 - val_acc: 0.9793\n",
      "Epoch 14/20\n",
      "60000/60000 [==============================] - 23s 385us/step - loss: 0.0225 - acc: 0.9934 - val_loss: 0.1104 - val_acc: 0.9809\n",
      "Epoch 15/20\n",
      "60000/60000 [==============================] - 25s 414us/step - loss: 0.0210 - acc: 0.9938 - val_loss: 0.1152 - val_acc: 0.9803\n",
      "Epoch 16/20\n",
      "60000/60000 [==============================] - 26s 426us/step - loss: 0.0200 - acc: 0.9946 - val_loss: 0.1029 - val_acc: 0.9819\n",
      "Epoch 17/20\n",
      "60000/60000 [==============================] - 26s 428us/step - loss: 0.0201 - acc: 0.9945 - val_loss: 0.1145 - val_acc: 0.9820\n",
      "Epoch 18/20\n",
      "60000/60000 [==============================] - 21s 354us/step - loss: 0.0197 - acc: 0.9950 - val_loss: 0.1137 - val_acc: 0.9817\n",
      "Epoch 19/20\n",
      "60000/60000 [==============================] - 21s 348us/step - loss: 0.0187 - acc: 0.9949 - val_loss: 0.1192 - val_acc: 0.9803\n",
      "Epoch 20/20\n",
      "60000/60000 [==============================] - 21s 346us/step - loss: 0.0153 - acc: 0.9959 - val_loss: 0.1255 - val_acc: 0.9817\n"
     ]
    }
   ],
   "source": [
    "history = model.fit(x_train, y_train,\n",
    "                    batch_size=batch_size,\n",
    "                    epochs=epochs,\n",
    "                    verbose=1,\n",
    "                    validation_data=(x_test, y_test))"
   ]
  },
  {
   "cell_type": "code",
   "execution_count": 6,
   "metadata": {},
   "outputs": [
    {
     "name": "stdout",
     "output_type": "stream",
     "text": [
      "Test loss: 0.12549709288878033\n",
      "Test accuracy: 0.9817\n"
     ]
    }
   ],
   "source": [
    "score = model.evaluate(x_test, y_test, verbose=0)\n",
    "print('Test loss:', score[0])\n",
    "print('Test accuracy:', score[1])"
   ]
  },
  {
   "cell_type": "code",
   "execution_count": 7,
   "metadata": {},
   "outputs": [
    {
     "name": "stdout",
     "output_type": "stream",
     "text": [
      "10000/10000 [==============================] - 2s 218us/step\n",
      "score:[0.12549709288878033, 0.9817]\n"
     ]
    }
   ],
   "source": [
    "score = model.evaluate(x_test, y_test, verbose=1)\n",
    "print(\"score:%r\" % (score))"
   ]
  },
  {
   "cell_type": "code",
   "execution_count": null,
   "metadata": {},
   "outputs": [],
   "source": []
  }
 ],
 "metadata": {
  "kernelspec": {
   "display_name": "Python 2",
   "language": "python",
   "name": "python2"
  },
  "language_info": {
   "codemirror_mode": {
    "name": "ipython",
    "version": 2
   },
   "file_extension": ".py",
   "mimetype": "text/x-python",
   "name": "python",
   "nbconvert_exporter": "python",
   "pygments_lexer": "ipython2",
   "version": "2.7.14"
  }
 },
 "nbformat": 4,
 "nbformat_minor": 2
}
