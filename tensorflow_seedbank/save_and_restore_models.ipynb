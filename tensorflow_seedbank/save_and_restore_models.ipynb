{
 "cells": [
  {
   "cell_type": "markdown",
   "metadata": {},
   "source": [
    "source: https://github.com/tensorflow/docs/blob/master/site/en/tutorials/keras/save_and_restore_models.ipynb"
   ]
  },
  {
   "cell_type": "markdown",
   "metadata": {},
   "source": [
    "# Save and restore models  \n",
    "(Tony) Keras 儲存和載入模型  \n",
    "\n",
    "Model progress can be saved during—and after—training. This means a model can resume where it left off and avoid long training times. Saving also means you can share your model and others can recreate your work. When publishing research models and techniques, most machine learning practitioners share:\n",
    "\n",
    "* code to create the model, and\n",
    "* the trained weights, or parameters, for the model\n",
    "\n",
    "Sharing this data helps others understand how the model works and try it themselves with new data.\n",
    "\n",
    "Caution: Be careful with untrusted code—TensorFlow models are code. See [Using TensorFlow Securely](https://github.com/tensorflow/tensorflow/blob/master/SECURITY.md) for details.  \n",
    "(Tony) 訓練過程中可以進行模型的儲存, 針對長時間的訓練就可以繼續之前完成的進度  \n",
    "(Tony) 你也可以分享訓練完成的模型和復現之前完成的成果  \n",
    "\n",
    "### Options\n",
    "\n",
    "There are different ways to save TensorFlow models—depending on the API you're using. This guide uses [tf.keras](https://www.tensorflow.org/guide/keras), a high-level API to build and train models in TensorFlow. For other approaches, see the TensorFlow  [Save and Restore](https://www.tensorflow.org/guide/saved_model) guide or [Saving in eager](https://www.tensorflow.org/guide/eager#object_based_saving)."
   ]
  },
  {
   "cell_type": "markdown",
   "metadata": {},
   "source": [
    "## Setup\n",
    "\n",
    "### Installs and imports  \n",
    "(Tony) 環境設定  "
   ]
  },
  {
   "cell_type": "markdown",
   "metadata": {},
   "source": [
    "Install and import TensorFlow and dependencies:  \n",
    "(Tony) 注意你的 notebook 選用的 kernel 版本 (python2 or python3)  \n",
    "(Tony) 如果 python3 請修改下面 code (pip -> pip3)  "
   ]
  },
  {
   "cell_type": "code",
   "execution_count": 1,
   "metadata": {},
   "outputs": [
    {
     "name": "stdout",
     "output_type": "stream",
     "text": [
      "\u001b[33mThe directory '/home/A50130/.cache/pip/http' or its parent directory is not owned by the current user and the cache has been disabled. Please check the permissions and owner of that directory. If executing pip with sudo, you may want sudo's -H flag.\u001b[0m\r\n",
      "\u001b[33mThe directory '/home/A50130/.cache/pip' or its parent directory is not owned by the current user and caching wheels has been disabled. check the permissions and owner of that directory. If executing pip with sudo, you may want sudo's -H flag.\u001b[0m\r\n",
      "Requirement already satisfied: h5py in /usr/lib/python2.7/dist-packages (2.6.0)\r\n",
      "Requirement already satisfied: pyyaml in /usr/local/lib/python2.7/dist-packages (3.12)\r\n"
     ]
    }
   ],
   "source": [
    "!pip install h5py pyyaml "
   ]
  },
  {
   "cell_type": "markdown",
   "metadata": {},
   "source": [
    "### Get an example dataset\n",
    "\n",
    "We'll use the [MNIST dataset](http://yann.lecun.com/exdb/mnist/) to train our model to demonstrate saving weights. To speed up these demonstration runs, only use the first 1000 examples:  \n",
    "(Tony) 我們來用 MNIST 資料集訓練模型並示範如何把權重儲存起來  \n",
    "(Tony) 為加速示範速度, 只提取資料集中的前 1000 data  "
   ]
  },
  {
   "cell_type": "code",
   "execution_count": 1,
   "metadata": {},
   "outputs": [
    {
     "data": {
      "text/plain": [
       "'1.4.0'"
      ]
     },
     "execution_count": 1,
     "metadata": {},
     "output_type": "execute_result"
    }
   ],
   "source": [
    "from __future__ import absolute_import, division, print_function\n",
    "\n",
    "import os\n",
    "\n",
    "import tensorflow as tf\n",
    "from tensorflow import keras\n",
    "\n",
    "tf.__version__"
   ]
  },
  {
   "cell_type": "code",
   "execution_count": 2,
   "metadata": {},
   "outputs": [
    {
     "name": "stdout",
     "output_type": "stream",
     "text": [
      "\n",
      "train_images.shape: (60000, 28, 28)\n",
      "train_images.shape: (1000, 784)\n"
     ]
    }
   ],
   "source": [
    "(train_images, train_labels), (test_images, test_labels) = tf.keras.datasets.mnist.load_data()\n",
    "print(\"\\ntrain_images.shape:\", (train_images.shape))\n",
    "\n",
    "train_labels = train_labels[:1000]\n",
    "test_labels = test_labels[:1000]\n",
    "\n",
    "train_images = train_images[:1000].reshape(-1, 28 * 28) / 255.0\n",
    "test_images = test_images[:1000].reshape(-1, 28 * 28) / 255.0\n",
    "print(\"train_images.shape:\", (train_images.shape))"
   ]
  },
  {
   "cell_type": "markdown",
   "metadata": {},
   "source": [
    "### Define a model"
   ]
  },
  {
   "cell_type": "markdown",
   "metadata": {},
   "source": [
    "Let's build a simple model we'll use to demonstrate saving and loading weights.  \n",
    "(Tony) 建立一個簡單模型用來示範如何儲存和載入權重  "
   ]
  },
  {
   "cell_type": "code",
   "execution_count": 3,
   "metadata": {},
   "outputs": [
    {
     "name": "stdout",
     "output_type": "stream",
     "text": [
      "_________________________________________________________________\n",
      "Layer (type)                 Output Shape              Param #   \n",
      "=================================================================\n",
      "dense_1 (Dense)              (None, 512)               401920    \n",
      "_________________________________________________________________\n",
      "dropout_1 (Dropout)          (None, 512)               0         \n",
      "_________________________________________________________________\n",
      "dense_2 (Dense)              (None, 10)                5130      \n",
      "=================================================================\n",
      "Total params: 407,050\n",
      "Trainable params: 407,050\n",
      "Non-trainable params: 0\n",
      "_________________________________________________________________\n"
     ]
    }
   ],
   "source": [
    "# Returns a short sequential model\n",
    "def create_model():\n",
    "  model = tf.keras.models.Sequential([\n",
    "    keras.layers.Dense(512, activation=tf.nn.relu, input_shape=(784,)),\n",
    "    keras.layers.Dropout(0.2),\n",
    "    keras.layers.Dense(10, activation=tf.nn.softmax)\n",
    "  ])\n",
    "  \n",
    "  model.compile(optimizer=tf.keras.optimizers.Adam(), \n",
    "                loss=tf.keras.losses.sparse_categorical_crossentropy,\n",
    "                metrics=['accuracy'])\n",
    "  \n",
    "  return model\n",
    "\n",
    "\n",
    "# Create a basic model instance\n",
    "model = create_model()\n",
    "model.summary()"
   ]
  },
  {
   "cell_type": "markdown",
   "metadata": {},
   "source": [
    "# Save checkpoints during training"
   ]
  },
  {
   "cell_type": "markdown",
   "metadata": {},
   "source": [
    "The primary use case is to automatically save checkpoints *during* and at *the end* of training. This way you can use a trained model without having to retrain it, or pick-up training where you left of—in case the training process was interrupted.\n",
    "\n",
    "`tf.keras.callbacks.ModelCheckpoint` is a callback that performs this task. The callback takes a couple of arguments to configure checkpointing.  \n",
    "(Tony) 訓練結束是個重要的檢查點, 建立訓練過程中的檢查點, 可以在訓練意外被中斷後, 從最後的檢查點繼續訓練  \n",
    "(Tony) `tf.keras.callbacks.ModelCheckpoint` 這個函數可以幫你建立檢查點  \n",
    "\n",
    "### Checkpoint callback usage\n",
    "\n",
    "Train the model and pass it the `ModelCheckpoint` callback:  \n",
    "(Tony) 注意: 下面 code \"training_1/\" 這個 folder 要手動先建立, 不然會出現執行錯誤的問題  "
   ]
  },
  {
   "cell_type": "code",
   "execution_count": 4,
   "metadata": {},
   "outputs": [
    {
     "name": "stdout",
     "output_type": "stream",
     "text": [
      "Train on 1000 samples, validate on 1000 samples\n",
      "Epoch 1/10\n",
      " 832/1000 [=======================>......] - ETA: 0s - loss: 1.2806 - acc: 0.6238Epoch 00000: saving model to training_1/cp.ckpt\n",
      "1000/1000 [==============================] - 1s - loss: 1.1730 - acc: 0.6610 - val_loss: 0.7235 - val_acc: 0.7790\n",
      "Epoch 2/10\n",
      " 640/1000 [==================>...........] - ETA: 0s - loss: 0.4246 - acc: 0.8844Epoch 00001: saving model to training_1/cp.ckpt\n",
      "1000/1000 [==============================] - 0s - loss: 0.4236 - acc: 0.8820 - val_loss: 0.5630 - val_acc: 0.8280\n",
      "Epoch 3/10\n",
      " 640/1000 [==================>...........] - ETA: 0s - loss: 0.3010 - acc: 0.9281Epoch 00002: saving model to training_1/cp.ckpt\n",
      "1000/1000 [==============================] - 0s - loss: 0.2869 - acc: 0.9280 - val_loss: 0.5029 - val_acc: 0.8420\n",
      "Epoch 4/10\n",
      " 608/1000 [=================>............] - ETA: 0s - loss: 0.2053 - acc: 0.9572Epoch 00003: saving model to training_1/cp.ckpt\n",
      "1000/1000 [==============================] - 0s - loss: 0.2176 - acc: 0.9560 - val_loss: 0.4336 - val_acc: 0.8640\n",
      "Epoch 5/10\n",
      " 640/1000 [==================>...........] - ETA: 0s - loss: 0.1459 - acc: 0.9641Epoch 00004: saving model to training_1/cp.ckpt\n",
      "1000/1000 [==============================] - 0s - loss: 0.1547 - acc: 0.9650 - val_loss: 0.4231 - val_acc: 0.8620\n",
      "Epoch 6/10\n",
      " 640/1000 [==================>...........] - ETA: 0s - loss: 0.1056 - acc: 0.9844Epoch 00005: saving model to training_1/cp.ckpt\n",
      "1000/1000 [==============================] - 0s - loss: 0.1013 - acc: 0.9870 - val_loss: 0.4282 - val_acc: 0.8630\n",
      "Epoch 7/10\n",
      " 640/1000 [==================>...........] - ETA: 0s - loss: 0.0880 - acc: 0.9875Epoch 00006: saving model to training_1/cp.ckpt\n",
      "1000/1000 [==============================] - 0s - loss: 0.0827 - acc: 0.9890 - val_loss: 0.4183 - val_acc: 0.8560\n",
      "Epoch 8/10\n",
      " 640/1000 [==================>...........] - ETA: 0s - loss: 0.0629 - acc: 0.9953Epoch 00007: saving model to training_1/cp.ckpt\n",
      "1000/1000 [==============================] - 0s - loss: 0.0628 - acc: 0.9950 - val_loss: 0.4301 - val_acc: 0.8670\n",
      "Epoch 9/10\n",
      " 640/1000 [==================>...........] - ETA: 0s - loss: 0.0503 - acc: 0.9938Epoch 00008: saving model to training_1/cp.ckpt\n",
      "1000/1000 [==============================] - 0s - loss: 0.0483 - acc: 0.9950 - val_loss: 0.4205 - val_acc: 0.8660\n",
      "Epoch 10/10\n",
      " 608/1000 [=================>............] - ETA: 0s - loss: 0.0400 - acc: 0.9951Epoch 00009: saving model to training_1/cp.ckpt\n",
      "1000/1000 [==============================] - 0s - loss: 0.0397 - acc: 0.9950 - val_loss: 0.4126 - val_acc: 0.8700\n"
     ]
    },
    {
     "data": {
      "text/plain": [
       "<tensorflow.python.keras._impl.keras.callbacks.History at 0x7f5643f1cdd0>"
      ]
     },
     "execution_count": 4,
     "metadata": {},
     "output_type": "execute_result"
    }
   ],
   "source": [
    "checkpoint_path = \"training_1/cp.ckpt\"\n",
    "checkpoint_dir = os.path.dirname(checkpoint_path)\n",
    "\n",
    "# Create checkpoint callback\n",
    "cp_callback = tf.keras.callbacks.ModelCheckpoint(checkpoint_path, \n",
    "                                                 save_weights_only=True,\n",
    "                                                 verbose=1)\n",
    "\n",
    "model = create_model()\n",
    "\n",
    "model.fit(train_images, train_labels,  epochs = 10, \n",
    "          validation_data = (test_images,test_labels),\n",
    "          callbacks = [cp_callback])  # pass callback to training"
   ]
  },
  {
   "cell_type": "markdown",
   "metadata": {},
   "source": [
    "This creates a single collection of TensorFlow checkpoint files that are updated at the end of each epoch:  \n",
    "(Tony) 上面 code 檢查點 callback function 會在每回合(epoch)完成後進行權重儲存  \n",
    "(Tony) 下面檢查"
   ]
  },
  {
   "cell_type": "code",
   "execution_count": 5,
   "metadata": {},
   "outputs": [
    {
     "name": "stdout",
     "output_type": "stream",
     "text": [
      "total 1604\r\n",
      "drwxr-xr-x 2 root root      29 Sep  6 15:53 .\r\n",
      "drwxr-xr-x 4 root root     315 Sep  7 23:12 ..\r\n",
      "-rw-r--r-- 1 root root 1641848 Sep  7 23:13 cp.ckpt\r\n"
     ]
    }
   ],
   "source": [
    "!ls -la {checkpoint_dir}"
   ]
  },
  {
   "cell_type": "markdown",
   "metadata": {},
   "source": [
    "Create a new, untrained model. When restoring a model from only weights, you must have a model with the same architecture as the original model. Since it's the same model architecture, we can share weights despite that it's a different *instance* of the model.\n",
    "\n",
    "Now rebuild a fresh, untrained model, and evaluate it on the test set. An untrained model will perform at chance levels (~10% accuracy):  \n",
    "(Tony) 重新建一個未訓練的模型  \n",
    "(Tony) 注意載入權重檔案必須是完全相同的模型才能共用  \n",
    "(Tony) 用測試資料在這新的模型上驗證看看, 準確率非常地糟 (~10%)  "
   ]
  },
  {
   "cell_type": "code",
   "execution_count": 6,
   "metadata": {},
   "outputs": [
    {
     "name": "stdout",
     "output_type": "stream",
     "text": [
      "  32/1000 [..............................] - ETA: 1s\n",
      "Untrained model, accuracy: 11.20%\n"
     ]
    }
   ],
   "source": [
    "model = create_model()\n",
    "\n",
    "loss, acc = model.evaluate(test_images, test_labels)\n",
    "print(\"\\nUntrained model, accuracy: {:5.2f}%\".format(100*acc))"
   ]
  },
  {
   "cell_type": "markdown",
   "metadata": {},
   "source": [
    "Then load the weights from the checkpoint, and re-evaluate:  \n",
    "(Tony) 這次從檢查點載入權重, 並重新驗證看看  \n",
    "(Tony) 立刻恢復到訓練後的水準(> 85%)  "
   ]
  },
  {
   "cell_type": "code",
   "execution_count": 7,
   "metadata": {},
   "outputs": [
    {
     "name": "stdout",
     "output_type": "stream",
     "text": [
      "  32/1000 [..............................] - ETA: 0s\n",
      "Restored model, accuracy: 87.00%\n"
     ]
    }
   ],
   "source": [
    "model.load_weights(checkpoint_path)\n",
    "loss,acc = model.evaluate(test_images, test_labels)\n",
    "print(\"\\nRestored model, accuracy: {:5.2f}%\".format(100*acc))"
   ]
  },
  {
   "cell_type": "markdown",
   "metadata": {},
   "source": [
    "### Checkpoint callback options\n",
    "\n",
    "The callback provides several options to give the resulting checkpoints unique names, and adjust the checkpointing frequency.\n",
    "\n",
    "Train a new model, and save uniquely named checkpoints once every 5-epochs:  \n",
    "(Tony) callback 提供一些有用的選項  \n",
    "(Tony) 示範訓練一個新模型, 每 5 epochs 設為檢查點, 並且取個新檔名儲存權重  \n",
    "(Tony) 注意: \"training_2/\" folder 必須事先建立好  "
   ]
  },
  {
   "cell_type": "code",
   "execution_count": 8,
   "metadata": {},
   "outputs": [],
   "source": [
    "!mkdir training_2"
   ]
  },
  {
   "cell_type": "code",
   "execution_count": 9,
   "metadata": {},
   "outputs": [
    {
     "name": "stdout",
     "output_type": "stream",
     "text": [
      "Epoch 00004: saving model to training_2/cp-0004.ckpt\n",
      "Epoch 00009: saving model to training_2/cp-0009.ckpt\n",
      "Epoch 00014: saving model to training_2/cp-0014.ckpt\n",
      "Epoch 00019: saving model to training_2/cp-0019.ckpt\n",
      "Epoch 00024: saving model to training_2/cp-0024.ckpt\n",
      "Epoch 00029: saving model to training_2/cp-0029.ckpt\n",
      "Epoch 00034: saving model to training_2/cp-0034.ckpt\n",
      "Epoch 00039: saving model to training_2/cp-0039.ckpt\n",
      "Epoch 00044: saving model to training_2/cp-0044.ckpt\n",
      "Epoch 00049: saving model to training_2/cp-0049.ckpt\n"
     ]
    },
    {
     "data": {
      "text/plain": [
       "<tensorflow.python.keras._impl.keras.callbacks.History at 0x7f57f7f00dd0>"
      ]
     },
     "execution_count": 9,
     "metadata": {},
     "output_type": "execute_result"
    }
   ],
   "source": [
    "# include the epoch in the file name. (uses `str.format`)\n",
    "checkpoint_path = \"training_2/cp-{epoch:04d}.ckpt\"\n",
    "checkpoint_dir = os.path.dirname(checkpoint_path)\n",
    "\n",
    "cp_callback = tf.keras.callbacks.ModelCheckpoint(\n",
    "    checkpoint_path, verbose=1, save_weights_only=True,\n",
    "    # Save weights, every 5-epochs.\n",
    "    period=5)\n",
    "\n",
    "model = create_model()\n",
    "model.fit(train_images, train_labels,\n",
    "          epochs = 50, callbacks = [cp_callback],\n",
    "          validation_data = (test_images,test_labels),\n",
    "          verbose=0)"
   ]
  },
  {
   "cell_type": "markdown",
   "metadata": {},
   "source": [
    "Now, have a look at the resulting checkpoints (sorting by modification date):"
   ]
  },
  {
   "cell_type": "code",
   "execution_count": 14,
   "metadata": {},
   "outputs": [
    {
     "name": "stdout",
     "output_type": "stream",
     "text": [
      "total 16044\r\n",
      "drwxr-xr-x 2 root root     250 Sep  7 23:14 .\r\n",
      "drwxr-xr-x 5 root root    4096 Sep  7 23:16 ..\r\n",
      "-rw-r--r-- 1 root root 1641848 Sep  7 23:14 cp-0004.ckpt\r\n",
      "-rw-r--r-- 1 root root 1641848 Sep  7 23:14 cp-0009.ckpt\r\n",
      "-rw-r--r-- 1 root root 1641848 Sep  7 23:14 cp-0014.ckpt\r\n",
      "-rw-r--r-- 1 root root 1641848 Sep  7 23:14 cp-0019.ckpt\r\n",
      "-rw-r--r-- 1 root root 1641848 Sep  7 23:14 cp-0024.ckpt\r\n",
      "-rw-r--r-- 1 root root 1641848 Sep  7 23:14 cp-0029.ckpt\r\n",
      "-rw-r--r-- 1 root root 1641848 Sep  7 23:14 cp-0034.ckpt\r\n",
      "-rw-r--r-- 1 root root 1641848 Sep  7 23:14 cp-0039.ckpt\r\n",
      "-rw-r--r-- 1 root root 1641848 Sep  7 23:14 cp-0044.ckpt\r\n",
      "-rw-r--r-- 1 root root 1641848 Sep  7 23:14 cp-0049.ckpt\r\n"
     ]
    }
   ],
   "source": [
    "!ls -la training_2/"
   ]
  },
  {
   "cell_type": "code",
   "execution_count": 11,
   "metadata": {},
   "outputs": [
    {
     "name": "stdout",
     "output_type": "stream",
     "text": [
      "\u001b[33mThe directory '/home/A50130/.cache/pip/http' or its parent directory is not owned by the current user and the cache has been disabled. Please check the permissions and owner of that directory. If executing pip with sudo, you may want sudo's -H flag.\u001b[0m\n",
      "\u001b[33mThe directory '/home/A50130/.cache/pip' or its parent directory is not owned by the current user and caching wheels has been disabled. check the permissions and owner of that directory. If executing pip with sudo, you may want sudo's -H flag.\u001b[0m\n",
      "Collecting pathlib\n",
      "\u001b[?25l  Downloading https://files.pythonhosted.org/packages/ac/aa/9b065a76b9af472437a0059f77e8f962fe350438b927cb80184c32f075eb/pathlib-1.0.1.tar.gz (49kB)\n",
      "\u001b[K    100% |################################| 51kB 865kB/s ta 0:00:01\n",
      "\u001b[?25hInstalling collected packages: pathlib\n",
      "  Running setup.py install for pathlib ... \u001b[?25ldone\n",
      "\u001b[?25hSuccessfully installed pathlib-1.0.1\n"
     ]
    }
   ],
   "source": [
    "!pip install pathlib"
   ]
  },
  {
   "cell_type": "code",
   "execution_count": 27,
   "metadata": {},
   "outputs": [
    {
     "name": "stdout",
     "output_type": "stream",
     "text": [
      "training_2/cp-0049.ckpt\n"
     ]
    }
   ],
   "source": [
    "import pathlib\n",
    "\n",
    "# Sort the checkpoints by modification time.\n",
    "checkpoints = pathlib.Path(checkpoint_dir).glob(\"*.ckpt\")\n",
    "checkpoints = sorted(checkpoints, key=lambda cp:cp.stat().st_mtime)\n",
    "checkpoints = [cp for cp in checkpoints]\n",
    "latest = str(checkpoints[-1])\n",
    "checkpoints\n",
    "print(latest)"
   ]
  },
  {
   "cell_type": "markdown",
   "metadata": {},
   "source": [
    "Note: the default tensorflow format only saves the 5 most recent checkpoints.\n",
    "\n",
    "To test, reset the model and load the latest checkpoint:  \n",
    "(Tony) 重置模型並且載入最後一個檢查點(cp-0049.ckpt)測試看看  "
   ]
  },
  {
   "cell_type": "code",
   "execution_count": 29,
   "metadata": {},
   "outputs": [
    {
     "name": "stdout",
     "output_type": "stream",
     "text": [
      "1000/1000 [==============================] - 0s     \n",
      "\n",
      "Restored model, accuracy: 87.90%\n"
     ]
    }
   ],
   "source": [
    "model = create_model()\n",
    "model.load_weights(latest)\n",
    "loss, acc = model.evaluate(test_images, test_labels)\n",
    "print(\"\\nRestored model, accuracy: {:5.2f}%\".format(100*acc))"
   ]
  },
  {
   "cell_type": "markdown",
   "metadata": {},
   "source": [
    "## What are these files?"
   ]
  },
  {
   "cell_type": "markdown",
   "metadata": {},
   "source": [
    "The above code stores the weights to a collection of [checkpoint](https://www.tensorflow.org/guide/saved_model#save_and_restore_variables)-formatted files that contain only the trained weights in a binary format. Checkpoints contain:\n",
    "\n",
    "* One or more shards that contain your model's weights. \n",
    "* An index file that indicates which weights are stored in which shard.  \n",
    "\n",
    "If you are only training a model on a single machine, you'll have one shard with the suffix: `.data-00000-of-00001`  \n",
    "(Tony) 可能 DNN farm 安裝的 tensorflow 太舊(1.4.0), 並沒有找到 shard file  "
   ]
  },
  {
   "cell_type": "markdown",
   "metadata": {},
   "source": [
    "## Manually save weights\n",
    "\n",
    "Above you saw how to load the weights into a model.\n",
    "\n",
    "Manually saving the weights is just as simple, use the `Model.save_weights` method.  \n",
    "(Tony) 除了 callback 外, 也可以用 `Model.save_weights` 很簡單的儲存權重  "
   ]
  },
  {
   "cell_type": "code",
   "execution_count": 31,
   "metadata": {},
   "outputs": [],
   "source": [
    "!mkdir checkpoints"
   ]
  },
  {
   "cell_type": "code",
   "execution_count": 33,
   "metadata": {},
   "outputs": [
    {
     "name": "stdout",
     "output_type": "stream",
     "text": [
      "  32/1000 [..............................] - ETA: 0s\n",
      "Restored model, accuracy: 87.90%\n"
     ]
    }
   ],
   "source": [
    "# Save the weights\n",
    "model.save_weights('./checkpoints/my_checkpoint')\n",
    "\n",
    "# Restore the weights\n",
    "model = create_model()\n",
    "model.load_weights('./checkpoints/my_checkpoint')\n",
    "\n",
    "loss,acc = model.evaluate(test_images, test_labels)\n",
    "print(\"\\nRestored model, accuracy: {:5.2f}%\".format(100*acc))"
   ]
  },
  {
   "cell_type": "markdown",
   "metadata": {},
   "source": [
    "## Save the entire model\n",
    "\n",
    "The entire model can be saved to a file that contains the weight values, the model's configuration, and even the optimizer's configuration. This allows you to checkpoint a model and resume training later—from the exact same state—without access to the original code.  \n",
    "(Tony) 也可以把整個模型都儲存起來, 還包含了權重, 模型配置, 以及最佳化物件的配置  \n",
    "(Tony) 如此可以讓我們繼續上次未完成的訓練動作  \n",
    "\n",
    "Saving a fully-functional model in Keras is very useful—you can load them in [TensorFlow.js](https://js.tensorflow.org/tutorials/import-keras.html) and then train and run them in web browsers.  \n",
    "(Tony) 在 keras 上儲存完整模型有個非常有用的地方, 你可以用 `TensorFlow.js` 直接在瀏覽器中載入模型使用  \n",
    "\n",
    "Keras provides a basic save format using the [HDF5](https://en.wikipedia.org/wiki/Hierarchical_Data_Format) standard. For our purposes, the saved model can be treated as a single binary blob.  \n",
    "(Tony) Keras 採用 HDF5 標準儲存模型, 副檔名(.h5)  "
   ]
  },
  {
   "cell_type": "code",
   "execution_count": 34,
   "metadata": {},
   "outputs": [
    {
     "name": "stdout",
     "output_type": "stream",
     "text": [
      "Epoch 1/5\n",
      "1000/1000 [==============================] - 0s - loss: 1.1858 - acc: 0.6580     \n",
      "Epoch 2/5\n",
      "1000/1000 [==============================] - 0s - loss: 0.4428 - acc: 0.8710     \n",
      "Epoch 3/5\n",
      "1000/1000 [==============================] - 0s - loss: 0.2917 - acc: 0.9250     \n",
      "Epoch 4/5\n",
      "1000/1000 [==============================] - 0s - loss: 0.2080 - acc: 0.9470     \n",
      "Epoch 5/5\n",
      "1000/1000 [==============================] - 0s - loss: 0.1573 - acc: 0.9650     \n"
     ]
    }
   ],
   "source": [
    "model = create_model()\n",
    "\n",
    "model.fit(train_images, train_labels, epochs=5)\n",
    "\n",
    "# Save entire model to a HDF5 file\n",
    "model.save('my_model.h5')"
   ]
  },
  {
   "cell_type": "markdown",
   "metadata": {},
   "source": [
    "Now recreate the model from that file:  \n",
    "(Tony) 從 h5 file 中載入並重建模型, 裡面已經包含權重了  "
   ]
  },
  {
   "cell_type": "code",
   "execution_count": 35,
   "metadata": {},
   "outputs": [
    {
     "name": "stdout",
     "output_type": "stream",
     "text": [
      "_________________________________________________________________\n",
      "Layer (type)                 Output Shape              Param #   \n",
      "=================================================================\n",
      "dense_19 (Dense)             (None, 512)               401920    \n",
      "_________________________________________________________________\n",
      "dropout_10 (Dropout)         (None, 512)               0         \n",
      "_________________________________________________________________\n",
      "dense_20 (Dense)             (None, 10)                5130      \n",
      "=================================================================\n",
      "Total params: 407,050\n",
      "Trainable params: 407,050\n",
      "Non-trainable params: 0\n",
      "_________________________________________________________________\n"
     ]
    }
   ],
   "source": [
    "# Recreate the exact same model, including weights and optimizer.\n",
    "new_model = keras.models.load_model('my_model.h5')\n",
    "new_model.summary()"
   ]
  },
  {
   "cell_type": "markdown",
   "metadata": {},
   "source": [
    "Check its accuracy:  \n",
    "(Tony) 確認看看準確率  "
   ]
  },
  {
   "cell_type": "code",
   "execution_count": 37,
   "metadata": {},
   "outputs": [
    {
     "name": "stdout",
     "output_type": "stream",
     "text": [
      "  32/1000 [..............................] - ETA: 0s\n",
      "Restored model, accuracy: 86.40%\n"
     ]
    }
   ],
   "source": [
    "loss, acc = new_model.evaluate(test_images, test_labels)\n",
    "print(\"\\nRestored model, accuracy: {:5.2f}%\".format(100*acc))"
   ]
  },
  {
   "cell_type": "markdown",
   "metadata": {},
   "source": [
    "This technique saves everything:\n",
    "\n",
    "* The weight values\n",
    "* The model's configuration(architecture)\n",
    "* The optimizer configuration\n",
    "\n",
    "Keras saves models by inspecting the architecture. Currently, it is not able to save TensorFlow optimizers (from `tf.train`). When using those you will need to re-compile the model after loading, and you will lose the state of the optimizer.  \n",
    "(Tony) 目前 Keras 並不支援儲存 tensorflow 的最佳化物件  \n",
    "(Tony) 當你載入並且要使用最佳化物件的話, 在載入後必須重新編譯模型, 而且你會遺失所有最佳化物件的狀態  "
   ]
  },
  {
   "cell_type": "code",
   "execution_count": null,
   "metadata": {},
   "outputs": [],
   "source": []
  }
 ],
 "metadata": {
  "kernelspec": {
   "display_name": "Python 2",
   "language": "python",
   "name": "python2"
  },
  "language_info": {
   "codemirror_mode": {
    "name": "ipython",
    "version": 2
   },
   "file_extension": ".py",
   "mimetype": "text/x-python",
   "name": "python",
   "nbconvert_exporter": "python",
   "pygments_lexer": "ipython2",
   "version": "2.7.12"
  }
 },
 "nbformat": 4,
 "nbformat_minor": 2
}
