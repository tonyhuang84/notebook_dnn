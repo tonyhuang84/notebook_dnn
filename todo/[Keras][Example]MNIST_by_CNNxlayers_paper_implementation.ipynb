{
 "cells": [
  {
   "cell_type": "markdown",
   "metadata": {},
   "source": [
    "source: http://scs.ryerson.ca/~aharley/vis/"
   ]
  },
  {
   "cell_type": "markdown",
   "metadata": {},
   "source": [
    "* 論文中關於 fully-connected network 描述  \n",
    "  \"a convolutional network was trained,  \n",
    "  with 1024 nodes on the bottom layer (corresponding to pixels),  \n",
    "  6 5×5 (stride 1) convolutional filters in the first hidden layer,  \n",
    "  followed by 16 5 × 5 (stride 1) convolutional filters in the second hidden layer,  \n",
    "  then three fully-connected layers, \n",
    "  with 120 nodes in the first,  \n",
    "  100 nodes in the second, and  \n",
    "  10 nodes in the third (corresponding to the 10 digits).  \n",
    "  The convolutional layers are each followed by downsampling layer that does  \n",
    "  2×2 max pooling (with stride 2).\"   \n",
    "<br>\n",
    "* input layer: 1024 = 32 x 32 (note: 使用 mnist data set, 改成 28 x 28)\n",
    "* layer 1: CNN, 6 filters(5x5), stride = 1\n",
    "* layer 2: max pooling, 2x2, stride = 2\n",
    "* layer 3: CNN, 16 filters(5x5), stride = 1\n",
    "* layer 4: max pooling, 2x2, stride = 2\n",
    "* layer 5: flatten\n",
    "* layer 6: fc, 120 nodes\n",
    "* layer 7: fc, 100 nodes\n",
    "* output layer 8: fc, 10 nodes\n",
    "* 整篇論文並沒有說明採用哪種 activation function, loss function, optimizer"
   ]
  },
  {
   "cell_type": "code",
   "execution_count": null,
   "metadata": {},
   "outputs": [],
   "source": []
  }
 ],
 "metadata": {
  "kernelspec": {
   "display_name": "Python 2",
   "language": "python",
   "name": "python2"
  },
  "language_info": {
   "codemirror_mode": {
    "name": "ipython",
    "version": 2
   },
   "file_extension": ".py",
   "mimetype": "text/x-python",
   "name": "python",
   "nbconvert_exporter": "python",
   "pygments_lexer": "ipython2",
   "version": "2.7.14"
  }
 },
 "nbformat": 4,
 "nbformat_minor": 2
}
