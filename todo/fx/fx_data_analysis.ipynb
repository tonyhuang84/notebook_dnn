{
  "nbformat": 4,
  "nbformat_minor": 0,
  "metadata": {
    "colab": {
      "name": "fx_data_analysis.ipynb",
      "version": "0.3.2",
      "provenance": [],
      "include_colab_link": true
    },
    "kernelspec": {
      "name": "python3",
      "display_name": "Python 3"
    }
  },
  "cells": [
    {
      "cell_type": "markdown",
      "metadata": {
        "id": "view-in-github",
        "colab_type": "text"
      },
      "source": [
        "[View in Colaboratory](https://colab.research.google.com/github/tonyhuang84/notebook_dnn/blob/master/todo/fx/fx_data_analysis.ipynb)"
      ]
    },
    {
      "metadata": {
        "id": "UH43wDyrz9iD",
        "colab_type": "text"
      },
      "cell_type": "markdown",
      "source": [
        "## Download dataset from github\n",
        "* 學習如何從 github 下載 dataset 到 colab"
      ]
    },
    {
      "metadata": {
        "id": "c-LP2c6zzyfb",
        "colab_type": "code",
        "colab": {}
      },
      "cell_type": "code",
      "source": [
        ""
      ],
      "execution_count": 0,
      "outputs": []
    }
  ]
}