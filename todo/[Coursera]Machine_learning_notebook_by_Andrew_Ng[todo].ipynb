{
 "cells": [
  {
   "cell_type": "markdown",
   "metadata": {},
   "source": [
    "source: \n",
    "https://github.com/xxg1413/coursera/blob/master/Machine%20Learning-Andrew%20Ng/note/Andrew%20Ng%20%E6%9C%BA%E5%99%A8%E5%AD%A6%E4%B9%A0%20%E7%AC%94%E8%AE%B0coursera%20ml%20notes.pdf\n",
    "http://lachlan.pixnet.net/blog/post/117691634-note-for-machine-learning-week-1 <= 解釋得很詳細, 可惜不完整"
   ]
  }
 ],
 "metadata": {
  "kernelspec": {
   "display_name": "Python 2",
   "language": "python",
   "name": "python2"
  },
  "language_info": {
   "codemirror_mode": {
    "name": "ipython",
    "version": 2
   },
   "file_extension": ".py",
   "mimetype": "text/x-python",
   "name": "python",
   "nbconvert_exporter": "python",
   "pygments_lexer": "ipython2",
   "version": "2.7.14"
  }
 },
 "nbformat": 4,
 "nbformat_minor": 2
}
