{
 "cells": [
  {
   "cell_type": "markdown",
   "metadata": {},
   "source": [
    "source:\n",
    "https://github.com/llSourcell/Q-Learning-for-Trading"
   ]
  },
  {
   "cell_type": "markdown",
   "metadata": {},
   "source": [
    "# 環境設定\n",
    "* Python 2.7. \n",
    "* To install all the libraries, run pip install -r requirements.txt"
   ]
  },
  {
   "cell_type": "markdown",
   "metadata": {},
   "source": [
    "# 如何執行\n",
    "* 訓練 Deep Q agent  \n",
    "  python run.py --mode train\n",
    "* 測試模型效率  \n",
    "  python run.py --mode test --weights <trained_model>"
   ]
  },
  {
   "cell_type": "markdown",
   "metadata": {},
   "source": [
    "# run.py"
   ]
  },
  {
   "cell_type": "code",
   "execution_count": 5,
   "metadata": {},
   "outputs": [],
   "source": [
    "import pickle\n",
    "import time\n",
    "import numpy as np\n",
    "import argparse\n",
    "import re\n",
    "\n",
    "import os\n",
    "import pandas as pd\n",
    "from sklearn.preprocessing import StandardScaler\n",
    "\n",
    "from envs import TradingEnv\n",
    "from agent import DQNAgent\n",
    "#from utils import get_data, get_scaler, maybe_make_dir"
   ]
  },
  {
   "cell_type": "markdown",
   "metadata": {},
   "source": [
    "* 訓練模型\n",
    "* 傳入 \"--mode train\" 參數, 其他用預設值\n",
    "* episode = 2000; 訓練回合\n",
    "* batch_size = 32; 記憶回放深度\n",
    "* initial_invest = 20000; 初始資金"
   ]
  },
  {
   "cell_type": "code",
   "execution_count": 3,
   "metadata": {},
   "outputs": [
    {
     "name": "stdout",
     "output_type": "stream",
     "text": [
      "Namespace(batch_size=32, episode=2000, initial_invest=20000, mode='train', weights=None)\n"
     ]
    }
   ],
   "source": [
    "parser = argparse.ArgumentParser()\n",
    "parser.add_argument('-e', '--episode', type=int, default=2000,\n",
    "                  help='number of episode to run')\n",
    "parser.add_argument('-b', '--batch_size', type=int, default=32,\n",
    "                  help='batch size for experience replay')\n",
    "parser.add_argument('-i', '--initial_invest', type=int, default=20000,\n",
    "                  help='initial investment amount')\n",
    "parser.add_argument('-m', '--mode', type=str, required=True,\n",
    "                  help='either \"train\" or \"test\"')\n",
    "parser.add_argument('-w', '--weights', type=str, help='a trained model weights')\n",
    "args = parser.parse_args([\"--mode\", \"train\"])\n",
    "\n",
    "print(args)"
   ]
  },
  {
   "cell_type": "markdown",
   "metadata": {},
   "source": [
    "* 載入歷史股價\n",
    "* 微軟(MSFT), IBM, 高通(QCOM)\n",
    "* 只採用收盤股價 (close)"
   ]
  },
  {
   "cell_type": "code",
   "execution_count": 6,
   "metadata": {},
   "outputs": [
    {
     "data": {
      "text/html": [
       "<div>\n",
       "<style scoped>\n",
       "    .dataframe tbody tr th:only-of-type {\n",
       "        vertical-align: middle;\n",
       "    }\n",
       "\n",
       "    .dataframe tbody tr th {\n",
       "        vertical-align: top;\n",
       "    }\n",
       "\n",
       "    .dataframe thead th {\n",
       "        text-align: right;\n",
       "    }\n",
       "</style>\n",
       "<table border=\"1\" class=\"dataframe\">\n",
       "  <thead>\n",
       "    <tr style=\"text-align: right;\">\n",
       "      <th></th>\n",
       "      <th>timestamp</th>\n",
       "      <th>open</th>\n",
       "      <th>high</th>\n",
       "      <th>low</th>\n",
       "      <th>close</th>\n",
       "      <th>volume</th>\n",
       "    </tr>\n",
       "  </thead>\n",
       "  <tbody>\n",
       "    <tr>\n",
       "      <th>0</th>\n",
       "      <td>2017-12-27</td>\n",
       "      <td>85.65</td>\n",
       "      <td>85.9800</td>\n",
       "      <td>85.215</td>\n",
       "      <td>85.52</td>\n",
       "      <td>7325723</td>\n",
       "    </tr>\n",
       "    <tr>\n",
       "      <th>1</th>\n",
       "      <td>2017-12-26</td>\n",
       "      <td>85.31</td>\n",
       "      <td>85.5346</td>\n",
       "      <td>85.030</td>\n",
       "      <td>85.40</td>\n",
       "      <td>9883300</td>\n",
       "    </tr>\n",
       "    <tr>\n",
       "      <th>2</th>\n",
       "      <td>2017-12-22</td>\n",
       "      <td>85.40</td>\n",
       "      <td>85.6300</td>\n",
       "      <td>84.920</td>\n",
       "      <td>85.51</td>\n",
       "      <td>14033977</td>\n",
       "    </tr>\n",
       "    <tr>\n",
       "      <th>3</th>\n",
       "      <td>2017-12-21</td>\n",
       "      <td>86.05</td>\n",
       "      <td>86.1000</td>\n",
       "      <td>85.400</td>\n",
       "      <td>85.50</td>\n",
       "      <td>16638402</td>\n",
       "    </tr>\n",
       "    <tr>\n",
       "      <th>4</th>\n",
       "      <td>2017-12-20</td>\n",
       "      <td>86.20</td>\n",
       "      <td>86.3000</td>\n",
       "      <td>84.710</td>\n",
       "      <td>85.52</td>\n",
       "      <td>23425009</td>\n",
       "    </tr>\n",
       "  </tbody>\n",
       "</table>\n",
       "</div>"
      ],
      "text/plain": [
       "    timestamp   open     high     low  close    volume\n",
       "0  2017-12-27  85.65  85.9800  85.215  85.52   7325723\n",
       "1  2017-12-26  85.31  85.5346  85.030  85.40   9883300\n",
       "2  2017-12-22  85.40  85.6300  84.920  85.51  14033977\n",
       "3  2017-12-21  86.05  86.1000  85.400  85.50  16638402\n",
       "4  2017-12-20  86.20  86.3000  84.710  85.52  23425009"
      ]
     },
     "execution_count": 6,
     "metadata": {},
     "output_type": "execute_result"
    }
   ],
   "source": [
    "# show 微軟股價前幾筆看看\n",
    "msft_df = pd.read_csv('data/daily_MSFT.csv')\n",
    "msft_df.head()"
   ]
  },
  {
   "cell_type": "code",
   "execution_count": 7,
   "metadata": {},
   "outputs": [],
   "source": [
    "def get_data(col='close'):\n",
    "  \"\"\" Returns a 3 x n_step array \"\"\"\n",
    "  msft = pd.read_csv('data/daily_MSFT.csv', usecols=[col])\n",
    "  ibm = pd.read_csv('data/daily_IBM.csv', usecols=[col])\n",
    "  qcom = pd.read_csv('data/daily_QCOM.csv', usecols=[col])\n",
    "  # recent price are at top; reverse it\n",
    "  return np.array([msft[col].values[::-1],\n",
    "                   ibm[col].values[::-1],\n",
    "                   qcom[col].values[::-1]])"
   ]
  },
  {
   "cell_type": "markdown",
   "metadata": {},
   "source": [
    "* 讀取 csv file, 放入 3xn array 中 => [[MSFT], [IBM], [QCOM]]\n",
    "* 將歷史股價轉置, 也就是說把最新的股價放到 array 最前面"
   ]
  },
  {
   "cell_type": "code",
   "execution_count": 9,
   "metadata": {},
   "outputs": [
    {
     "name": "stdout",
     "output_type": "stream",
     "text": [
      "[[116.56   112.62   113.81   ...  85.51    85.4     85.52  ]\n",
      " [116.     112.06   116.     ... 152.5    152.83   153.0385]\n",
      " [179.3    162.1    158.     ...  64.73    64.3     64.52  ]]\n",
      "shape:(3, 4526)\n"
     ]
    }
   ],
   "source": [
    "stock_data = get_data()\n",
    "print(\"{}\".format(stock_data))\n",
    "print(\"shape:{}\".format(stock_data.shape))"
   ]
  },
  {
   "cell_type": "code",
   "execution_count": 10,
   "metadata": {},
   "outputs": [
    {
     "name": "stdout",
     "output_type": "stream",
     "text": [
      "[[117. 113. 114. ...  86.  85.  86.]\n",
      " [116. 112. 116. ... 152. 153. 153.]\n",
      " [179. 162. 158. ...  65.  64.  65.]]\n"
     ]
    }
   ],
   "source": [
    "data = np.around(stock_data)  # 四捨五入取整數\n",
    "print(\"{}\".format(data))"
   ]
  },
  {
   "cell_type": "markdown",
   "metadata": {},
   "source": [
    "* 將 data 分成訓練和測試兩類\n",
    "* train_data 3526 筆\n",
    "* test_data  1000 筆"
   ]
  },
  {
   "cell_type": "code",
   "execution_count": 12,
   "metadata": {},
   "outputs": [
    {
     "name": "stdout",
     "output_type": "stream",
     "text": [
      "train shape:(3, 3526)\n",
      "test shape:(3, 1000)\n"
     ]
    }
   ],
   "source": [
    "train_data = data[:, :3526]\n",
    "test_data = data[:, 3526:]\n",
    "print(\"train shape:{}\".format(train_data.shape))\n",
    "print(\"test shape:{}\".format(test_data.shape))"
   ]
  },
  {
   "cell_type": "code",
   "execution_count": null,
   "metadata": {},
   "outputs": [],
   "source": [
    "if __name__ == '__main__':\n",
    "  parser = argparse.ArgumentParser()\n",
    "  parser.add_argument('-e', '--episode', type=int, default=2000,\n",
    "                      help='number of episode to run')\n",
    "  parser.add_argument('-b', '--batch_size', type=int, default=32,\n",
    "                      help='batch size for experience replay')\n",
    "  parser.add_argument('-i', '--initial_invest', type=int, default=20000,\n",
    "                      help='initial investment amount')\n",
    "  parser.add_argument('-m', '--mode', type=str, required=True,\n",
    "                      help='either \"train\" or \"test\"')\n",
    "  parser.add_argument('-w', '--weights', type=str, help='a trained model weights')\n",
    "  args = parser.parse_args()\n",
    "\n",
    "  maybe_make_dir('weights')\n",
    "  maybe_make_dir('portfolio_val')\n",
    "\n",
    "  timestamp = time.strftime('%Y%m%d%H%M')\n",
    "\n",
    "  data = np.around(get_data())\n",
    "  print(\"{}\".format(data))\n",
    "  exit()\n",
    "  train_data = data[:, :3526]\n",
    "  test_data = data[:, 3526:]\n",
    "\n",
    "  env = TradingEnv(train_data, args.initial_invest)\n",
    "  state_size = env.observation_space.shape\n",
    "  action_size = env.action_space.n\n",
    "  agent = DQNAgent(state_size, action_size)\n",
    "  scaler = get_scaler(env)\n",
    "\n",
    "  portfolio_value = []\n",
    "\n",
    "  if args.mode == 'test':\n",
    "    # remake the env with test data\n",
    "    env = TradingEnv(test_data, args.initial_invest)\n",
    "    # load trained weights\n",
    "    agent.load(args.weights)\n",
    "    # when test, the timestamp is same as time when weights was trained\n",
    "    timestamp = re.findall(r'\\d{12}', args.weights)[0]\n",
    "\n",
    "  for e in range(args.episode):\n",
    "    state = env.reset()\n",
    "    state = scaler.transform([state])\n",
    "    for time in range(env.n_step):\n",
    "      action = agent.act(state)\n",
    "      next_state, reward, done, info = env.step(action)\n",
    "      next_state = scaler.transform([next_state])\n",
    "      if args.mode == 'train':\n",
    "        agent.remember(state, action, reward, next_state, done)\n",
    "      state = next_state\n",
    "      if done:\n",
    "        print(\"episode: {}/{}, episode end value: {}\".format(\n",
    "          e + 1, args.episode, info['cur_val']))\n",
    "        portfolio_value.append(info['cur_val']) # append episode end portfolio value\n",
    "        break\n",
    "      if args.mode == 'train' and len(agent.memory) > args.batch_size:\n",
    "        agent.replay(args.batch_size)\n",
    "    if args.mode == 'train' and (e + 1) % 10 == 0:  # checkpoint weights\n",
    "      agent.save('weights/{}-dqn.h5'.format(timestamp))\n",
    "\n",
    "  # save portfolio value history to disk\n",
    "  with open('portfolio_val/{}-{}.p'.format(timestamp, args.mode), 'wb') as fp:\n",
    "    pickle.dump(portfolio_value, fp)"
   ]
  },
  {
   "cell_type": "code",
   "execution_count": null,
   "metadata": {},
   "outputs": [],
   "source": []
  }
 ],
 "metadata": {
  "kernelspec": {
   "display_name": "Python 2",
   "language": "python",
   "name": "python2"
  },
  "language_info": {
   "codemirror_mode": {
    "name": "ipython",
    "version": 2
   },
   "file_extension": ".py",
   "mimetype": "text/x-python",
   "name": "python",
   "nbconvert_exporter": "python",
   "pygments_lexer": "ipython2",
   "version": "2.7.12"
  }
 },
 "nbformat": 4,
 "nbformat_minor": 2
}
