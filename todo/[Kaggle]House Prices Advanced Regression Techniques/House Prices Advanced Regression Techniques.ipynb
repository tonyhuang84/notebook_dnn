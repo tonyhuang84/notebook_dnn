{
 "cells": [
  {
   "cell_type": "markdown",
   "metadata": {},
   "source": [
    "source: https://www.kaggle.com/c/house-prices-advanced-regression-techniques"
   ]
  },
  {
   "cell_type": "code",
   "execution_count": 1,
   "metadata": {},
   "outputs": [
    {
     "name": "stderr",
     "output_type": "stream",
     "text": [
      "/home/tony/dnn/anaconda2/envs/myjupyter/lib/python2.7/site-packages/h5py/__init__.py:36: FutureWarning: Conversion of the second argument of issubdtype from `float` to `np.floating` is deprecated. In future, it will be treated as `np.float64 == np.dtype(float).type`.\n",
      "  from ._conv import register_converters as _register_converters\n",
      "Using TensorFlow backend.\n",
      "/home/tony/dnn/anaconda2/envs/myjupyter/lib/python2.7/site-packages/sklearn/cross_validation.py:41: DeprecationWarning: This module was deprecated in version 0.18 in favor of the model_selection module into which all the refactored classes and functions are moved. Also note that the interface of the new CV iterators are different from that of this module. This module will be removed in 0.20.\n",
      "  \"This module will be removed in 0.20.\", DeprecationWarning)\n"
     ]
    }
   ],
   "source": [
    "import pandas as pd\n",
    "import numpy as np\n",
    "from keras.models import Sequential\n",
    "from keras.layers import Dense\n",
    "from keras.wrappers.scikit_learn import KerasRegressor\n",
    "from sklearn.cross_validation import cross_val_score\n"
   ]
  },
  {
   "cell_type": "code",
   "execution_count": 2,
   "metadata": {},
   "outputs": [],
   "source": [
    "train_df = pd.read_csv(\"./input/train.csv\")\n",
    "test_df = pd.read_csv(\"./input/test.csv\")"
   ]
  },
  {
   "cell_type": "code",
   "execution_count": 18,
   "metadata": {},
   "outputs": [
    {
     "name": "stdout",
     "output_type": "stream",
     "text": [
      "train_df:\n",
      "   Id  MSSubClass MSZoning  LotFrontage  LotArea Street Alley LotShape  \\\n",
      "0   1          60       RL         65.0     8450   Pave   NaN      Reg   \n",
      "1   2          20       RL         80.0     9600   Pave   NaN      Reg   \n",
      "2   3          60       RL         68.0    11250   Pave   NaN      IR1   \n",
      "3   4          70       RL         60.0     9550   Pave   NaN      IR1   \n",
      "4   5          60       RL         84.0    14260   Pave   NaN      IR1   \n",
      "5   6          50       RL         85.0    14115   Pave   NaN      IR1   \n",
      "6   7          20       RL         75.0    10084   Pave   NaN      Reg   \n",
      "7   8          60       RL          NaN    10382   Pave   NaN      IR1   \n",
      "8   9          50       RM         51.0     6120   Pave   NaN      Reg   \n",
      "9  10         190       RL         50.0     7420   Pave   NaN      Reg   \n",
      "\n",
      "  LandContour Utilities    ...     PoolArea PoolQC  Fence MiscFeature MiscVal  \\\n",
      "0         Lvl    AllPub    ...            0    NaN    NaN         NaN       0   \n",
      "1         Lvl    AllPub    ...            0    NaN    NaN         NaN       0   \n",
      "2         Lvl    AllPub    ...            0    NaN    NaN         NaN       0   \n",
      "3         Lvl    AllPub    ...            0    NaN    NaN         NaN       0   \n",
      "4         Lvl    AllPub    ...            0    NaN    NaN         NaN       0   \n",
      "5         Lvl    AllPub    ...            0    NaN  MnPrv        Shed     700   \n",
      "6         Lvl    AllPub    ...            0    NaN    NaN         NaN       0   \n",
      "7         Lvl    AllPub    ...            0    NaN    NaN        Shed     350   \n",
      "8         Lvl    AllPub    ...            0    NaN    NaN         NaN       0   \n",
      "9         Lvl    AllPub    ...            0    NaN    NaN         NaN       0   \n",
      "\n",
      "  MoSold YrSold  SaleType  SaleCondition  SalePrice  \n",
      "0      2   2008        WD         Normal     208500  \n",
      "1      5   2007        WD         Normal     181500  \n",
      "2      9   2008        WD         Normal     223500  \n",
      "3      2   2006        WD        Abnorml     140000  \n",
      "4     12   2008        WD         Normal     250000  \n",
      "5     10   2009        WD         Normal     143000  \n",
      "6      8   2007        WD         Normal     307000  \n",
      "7     11   2009        WD         Normal     200000  \n",
      "8      4   2008        WD        Abnorml     129900  \n",
      "9      1   2008        WD         Normal     118000  \n",
      "\n",
      "[10 rows x 81 columns]\n"
     ]
    }
   ],
   "source": [
    "def scale_features(X): \n",
    "    ''' scale the features columnwise to 0 mean and normalize by range\n",
    "    '''\n",
    "    for i in range(len(X[1,:])):\n",
    "        X[:,i] = (X[:,i] - X[:,i].mean())/(X[:,i].max()-X[:,i].min())\n",
    "    return X\n",
    "\n",
    "def fill_nan(X):\n",
    "    '''replace NaNs with mean for each column\n",
    "    ''' \n",
    "    for i in range(len(X[1,:])):\n",
    "        mean = np.nanmean(X[:,i])\n",
    "        mask = np.isnan(X[:,i])\n",
    "        X[mask,i] = mean\n",
    "    return X\n",
    "\n",
    "\n",
    "def strings_to_num(df):\n",
    "    '''Input: df (Pandas dataframe)\n",
    "       Ouput: numpy array with categorical (string) columns transformed into numerical\n",
    "    '''\n",
    "    #transform dataframe categories to numbers\n",
    "    return df.apply(lambda x: pd.factorize(x)[0]).values\n",
    "\n",
    "def df_to_numpy_array(df):\n",
    "    ''' Seperate categorical and numerical columns of dataframe\n",
    "        Input df: Pandas dataframe\n",
    "        Output: numpy array\n",
    "    '''\n",
    "    #get names of numerical columns\n",
    "    num_columns = list(df.select_dtypes(include=['float64', 'int64']).columns.values)\n",
    "    \n",
    "    #get numerical values into NumPy array\n",
    "    num_values = df[num_columns].values\n",
    "    \n",
    "    #fill NaN in numerical features\n",
    "    num_values = fill_nan(num_values)\n",
    "    \n",
    "    #scale numerical features\n",
    "    num_values = scale_features(num_values)   \n",
    "    \n",
    "    #get categorical columns \n",
    "    cat_columns = list(df.select_dtypes(include=['object']).columns.values)\n",
    "\n",
    "    #transform categorical columns into numpy array\n",
    "    cat_values = strings_to_num(df[cat_columns])\n",
    "    \n",
    "    return np.concatenate((cat_values,num_values),axis=1)\n",
    "\n",
    "\n",
    "feature_names = train_df.drop([\"SalePrice\",\"Id\"],axis=1).columns.tolist()\n",
    "num_features = len(feature_names)    \n",
    "    \n",
    "X = df_to_numpy_array(train_df.drop([\"SalePrice\",\"Id\"],axis=1))     #training data\n",
    "Xtest = df_to_numpy_array(test_df.drop([\"Id\"],axis=1)) #test data\n",
    "y = train_df['SalePrice'].values #target\n",
    "test_ids = test_df[\"Id\"].values\n",
    "\n",
    "print(\"train_df:\\n%r\" % (train_df[:10]))"
   ]
  },
  {
   "cell_type": "code",
   "execution_count": 6,
   "metadata": {},
   "outputs": [],
   "source": [
    "# define base mode\n",
    "def model():\n",
    "    # create model\n",
    "    model = Sequential()\n",
    "    model.add(Dense(60, input_dim=num_features, kernel_initializer='normal', activation='relu'))\n",
    "    model.add(Dense(20, kernel_initializer='normal', activation='relu'))\n",
    "    model.add(Dense(1, kernel_initializer='normal'))\n",
    "    # Compile model\n",
    "    model.compile(loss='msle', optimizer='adam')\n",
    "    return model"
   ]
  },
  {
   "cell_type": "code",
   "execution_count": 10,
   "metadata": {},
   "outputs": [
    {
     "name": "stdout",
     "output_type": "stream",
     "text": [
      "msle = -51.62 std = 1.54\n"
     ]
    }
   ],
   "source": [
    "# evaluate model with standardized dataset\n",
    "kr = KerasRegressor(build_fn=model, nb_epoch=100, batch_size=5, verbose=0)\n",
    "\n",
    "scores = cross_val_score(kr, X, y, cv=4)\n",
    "print(\"msle = %4.2f std = %4.2f\" % (scores.mean(),scores.std()))"
   ]
  },
  {
   "cell_type": "code",
   "execution_count": 22,
   "metadata": {},
   "outputs": [],
   "source": [
    "kr.fit(X, y, epochs=100, batch_size=5)\n",
    "result = kr.predict(X)"
   ]
  },
  {
   "cell_type": "code",
   "execution_count": 23,
   "metadata": {},
   "outputs": [
    {
     "name": "stdout",
     "output_type": "stream",
     "text": [
      "result.shape:1460\n"
     ]
    }
   ],
   "source": [
    "print(\"result.shape:%r\" % (result.shape))"
   ]
  },
  {
   "cell_type": "code",
   "execution_count": 24,
   "metadata": {},
   "outputs": [
    {
     "name": "stdout",
     "output_type": "stream",
     "text": [
      "array([211225.4 , 170431.81, 230630.6 , 170455.58, 291373.4 , 146089.17,\n",
      "       277059.84, 225649.31, 143037.62,  99358.1 ], dtype=float32)\n",
      "array([208500, 181500, 223500, 140000, 250000, 143000, 307000, 200000,\n",
      "       129900, 118000])\n"
     ]
    }
   ],
   "source": [
    "print(\"%r\" % (result[:10]))\n",
    "print(\"%r\" % (y[:10]))"
   ]
  },
  {
   "cell_type": "code",
   "execution_count": null,
   "metadata": {},
   "outputs": [],
   "source": []
  }
 ],
 "metadata": {
  "kernelspec": {
   "display_name": "Python 2",
   "language": "python",
   "name": "python2"
  },
  "language_info": {
   "codemirror_mode": {
    "name": "ipython",
    "version": 2
   },
   "file_extension": ".py",
   "mimetype": "text/x-python",
   "name": "python",
   "nbconvert_exporter": "python",
   "pygments_lexer": "ipython2",
   "version": "2.7.14"
  }
 },
 "nbformat": 4,
 "nbformat_minor": 2
}
