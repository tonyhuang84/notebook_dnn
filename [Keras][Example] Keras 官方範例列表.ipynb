{
 "cells": [
  {
   "cell_type": "markdown",
   "metadata": {},
   "source": [
    "source: https://github.com/keras-team/keras/tree/master/examples"
   ]
  },
  {
   "cell_type": "markdown",
   "metadata": {},
   "source": [
    "## Vision models examples\n",
    "\n",
    "[mnist_mlp.py](https://github.com/keras-team/keras/blob/master/examples/mnist_mlp.py) Trains a simple deep multi-layer perceptron on the MNIST dataset.  \n",
    "\n",
    "[(notebook)]  \n",
    "[mnist_cnn.py](https://github.com/keras-team/keras/blob/master/examples/mnist_cnn.py) Trains a simple convnet on the MNIST dataset.  \n",
    "\n",
    "[(notebook)]  \n",
    "[cifar10_cnn.py](https://github.com/keras-team/keras/blob/master/examples/cifar10_cnn.py) Trains a simple deep CNN on the CIFAR10 small images dataset.  \n",
    "\n",
    "[(notebook)]  \n",
    "[cifar10_resnet.py](https://github.com/keras-team/keras/blob/master/examples/cifar10_resnet.py) Trains a ResNet on the CIFAR10 small images dataset.\n",
    "\n",
    "[(notebook)]  \n",
    "[conv_lstm.py](https://github.com/keras-team/keras/blob/master/examples/conv_lstm.py) Demonstrates the use of a convolutional LSTM network.\n",
    "\n",
    "[(notebook)]  \n",
    "[image_ocr.py](https://github.com/keras-team/keras/blob/master/examples/image_ocr.py) Trains a convolutional stack followed by a recurrent stack and a CTC logloss function to perform optical character recognition (OCR).\n",
    "\n",
    "[(notebook)]  \n",
    "[mnist_acgan.py](https://github.com/keras-team/keras/blob/master/examples/mnist_acgan.py) Implementation of AC-GAN (Auxiliary Classifier GAN) on the MNIST dataset\n",
    "\n",
    "[(notebook)]  \n",
    "[mnist_hierarchical_rnn.py](https://github.com/keras-team/keras/blob/master/examples/mnist_hierarchical_rnn.py) Trains a Hierarchical RNN (HRNN) to classify MNIST digits.\n",
    "\n",
    "[(notebook)]  \n",
    "[mnist_siamese.py](https://github.com/keras-team/keras/blob/master/examples/mnist_siamese.py) Trains a Siamese multi-layer perceptron on pairs of digits from the MNIST dataset.\n",
    "\n",
    "[(notebook)]  \n",
    "[mnist_swwae.py](https://github.com/keras-team/keras/blob/master/examples/mnist_swwae.py) Trains a Stacked What-Where AutoEncoder built on residual blocks on the MNIST dataset.\n",
    "\n",
    "[(notebook)]  \n",
    "[mnist_transfer_cnn.py](https://github.com/keras-team/keras/blob/master/examples/mnist_transfer_cnn.py) Transfer learning toy example."
   ]
  },
  {
   "cell_type": "markdown",
   "metadata": {},
   "source": [
    "## Text & sequences examples\n",
    "[(notebook)]  \n",
    "[addition_rnn.py](https://github.com/keras-team/keras/blob/master/examples/addition_rnn.py) Implementation of sequence to sequence learning for performing addition of two numbers (as strings).\n",
    "\n",
    "[(notebook)]  \n",
    "babi_rnn.py Trains a two-branch recurrent network on the bAbI dataset for reading comprehension.\n",
    "\n",
    "[(notebook)]  \n",
    "babi_memnn.py Trains a memory network on the bAbI dataset for reading comprehension.\n",
    "\n",
    "[(notebook)]  \n",
    "imdb_bidirectional_lstm.py Trains a Bidirectional LSTM on the IMDB sentiment classification task.\n",
    "\n",
    "[(notebook)]  \n",
    "imdb_cnn.py Demonstrates the use of Convolution1D for text classification.\n",
    "\n",
    "[(notebook)]  \n",
    "imdb_cnn_lstm.py Trains a convolutional stack followed by a recurrent stack network on the IMDB sentiment classification task.\n",
    "\n",
    "[(notebook)]  \n",
    "imdb_fasttext.py Trains a FastText model on the IMDB sentiment classification task.\n",
    "\n",
    "[(notebook)]  \n",
    "[imdb_lstm.py](https://github.com/keras-team/keras/blob/master/examples/imdb_lstm.py) Trains an LSTM model on the IMDB sentiment classification task.\n",
    "\n",
    "[(notebook)]  \n",
    "[lstm_stateful.py](https://github.com/keras-team/keras/blob/master/examples/lstm_stateful.py) Demonstrates how to use stateful RNNs to model long sequences efficiently.\n",
    "\n",
    "[(notebook)]  \n",
    "pretrained_word_embeddings.py Loads pre-trained word embeddings (GloVe embeddings) into a frozen Keras Embedding layer, and uses it to train a text classification model on the 20 Newsgroup dataset.\n",
    "\n",
    "[(notebook)]  \n",
    "reuters_mlp.py Trains and evaluate a simple MLP on the Reuters newswire topic classification task."
   ]
  },
  {
   "cell_type": "markdown",
   "metadata": {},
   "source": [
    "## Generative models examples\n",
    "lstm_text_generation.py Generates text from Nietzsche's writings.\n",
    "\n",
    "conv_filter_visualization.py Visualization of the filters of VGG16, via gradient ascent in input space.\n",
    "\n",
    "deep_dream.py Deep Dreams in Keras.\n",
    "\n",
    "neural_doodle.py Neural doodle.\n",
    "\n",
    "neural_style_transfer.py Neural style transfer.\n",
    "\n",
    "variational_autoencoder.py Demonstrates how to build a variational autoencoder.\n",
    "\n",
    "variational_autoencoder_deconv.py Demonstrates how to build a variational autoencoder with Keras using deconvolution layers."
   ]
  },
  {
   "cell_type": "markdown",
   "metadata": {},
   "source": [
    "## Examples demonstrating specific Keras functionality\n",
    "antirectifier.py Demonstrates how to write custom layers for Keras.\n",
    "\n",
    "mnist_sklearn_wrapper.py Demonstrates how to use the sklearn wrapper.\n",
    "\n",
    "mnist_irnn.py Reproduction of the IRNN experiment with pixel-by-pixel sequential MNIST in \"A Simple Way to Initialize Recurrent Networks of Rectified Linear Units\" by Le et al.\n",
    "\n",
    "mnist_net2net.py Reproduction of the Net2Net experiment with MNIST in \"Net2Net: Accelerating Learning via Knowledge Transfer\".\n",
    "\n",
    "reuters_mlp_relu_vs_selu.py Compares self-normalizing MLPs with regular MLPs.\n",
    "\n",
    "mnist_tfrecord.py MNIST dataset with TFRecords, the standard TensorFlow data format."
   ]
  },
  {
   "cell_type": "code",
   "execution_count": null,
   "metadata": {},
   "outputs": [],
   "source": []
  }
 ],
 "metadata": {
  "kernelspec": {
   "display_name": "Python 2",
   "language": "python",
   "name": "python2"
  },
  "language_info": {
   "codemirror_mode": {
    "name": "ipython",
    "version": 2
   },
   "file_extension": ".py",
   "mimetype": "text/x-python",
   "name": "python",
   "nbconvert_exporter": "python",
   "pygments_lexer": "ipython2",
   "version": "2.7.14"
  }
 },
 "nbformat": 4,
 "nbformat_minor": 2
}
