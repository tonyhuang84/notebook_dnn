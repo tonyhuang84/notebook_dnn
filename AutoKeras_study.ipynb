{
  "nbformat": 4,
  "nbformat_minor": 0,
  "metadata": {
    "colab": {
      "name": "AutoKeras_study.ipynb",
      "version": "0.3.2",
      "provenance": [],
      "collapsed_sections": [],
      "include_colab_link": true
    },
    "kernelspec": {
      "name": "python3",
      "display_name": "Python 3"
    }
  },
  "cells": [
    {
      "cell_type": "markdown",
      "metadata": {
        "id": "view-in-github",
        "colab_type": "text"
      },
      "source": [
        "[View in Colaboratory](https://colab.research.google.com/github/tonyhuang84/notebook_dnn/blob/master/AutoKeras_study.ipynb)"
      ]
    },
    {
      "metadata": {
        "id": "e4bWLgS8GSJm",
        "colab_type": "text"
      },
      "cell_type": "markdown",
      "source": [
        "## Source\n",
        "https://autokeras.com/  \n",
        "https://github.com/jhfjhfj1/autokeras  \n",
        "[开源的“谷歌AutoML杀手”来了 | Auto Keras](https://zhuanlan.zhihu.com/p/41197845)  "
      ]
    },
    {
      "metadata": {
        "id": "CpMA-mPqTWCZ",
        "colab_type": "text"
      },
      "cell_type": "markdown",
      "source": [
        "## 問題\n",
        "* 與 Google CoLab 不相容(https://github.com/jhfjhfj1/autokeras/issues/99)"
      ]
    },
    {
      "metadata": {
        "id": "IL9DBv4vG52c",
        "colab_type": "code",
        "colab": {
          "base_uri": "https://localhost:8080/",
          "height": 1720
        },
        "outputId": "87d07928-bf32-4dd8-994e-bbc8b10ea29d"
      },
      "cell_type": "code",
      "source": [
        "!git clone https://github.com/jhfjhfj1/autokeras.git\n",
        "!cd autokeras; pip install -r requirements.txt; python setup.py install"
      ],
      "execution_count": 4,
      "outputs": [
        {
          "output_type": "stream",
          "text": [
            "fatal: destination path 'autokeras' already exists and is not an empty directory.\n",
            "Requirement already satisfied: scipy in /usr/local/lib/python3.6/dist-packages (from -r requirements.txt (line 1)) (0.19.1)\n",
            "Requirement already satisfied: torch==0.4.1 in /usr/local/lib/python3.6/dist-packages (from -r requirements.txt (line 2)) (0.4.1)\n",
            "Requirement already satisfied: torchvision==0.2.1 in /usr/local/lib/python3.6/dist-packages (from -r requirements.txt (line 3)) (0.2.1)\n",
            "Requirement already satisfied: numpy==1.14.5 in /usr/local/lib/python3.6/dist-packages (from -r requirements.txt (line 4)) (1.14.5)\n",
            "Requirement already satisfied: scikit-learn==0.19.1 in /usr/local/lib/python3.6/dist-packages (from -r requirements.txt (line 5)) (0.19.1)\n",
            "Requirement already satisfied: keras==2.2.2 in /usr/local/lib/python3.6/dist-packages (from -r requirements.txt (line 6)) (2.2.2)\n",
            "Requirement already satisfied: tqdm==4.25.0 in /usr/local/lib/python3.6/dist-packages (from -r requirements.txt (line 7)) (4.25.0)\n",
            "Requirement already satisfied: tensorflow==1.10.0 in /usr/local/lib/python3.6/dist-packages (from -r requirements.txt (line 8)) (1.10.0)\n",
            "Requirement already satisfied: pytest in /usr/local/lib/python3.6/dist-packages (from -r requirements.txt (line 9)) (3.8.0)\n",
            "Requirement already satisfied: pytest-cov in /usr/local/lib/python3.6/dist-packages (from -r requirements.txt (line 10)) (2.6.0)\n",
            "Requirement already satisfied: coverage in /usr/local/lib/python3.6/dist-packages (from -r requirements.txt (line 11)) (4.5.1)\n",
            "Requirement already satisfied: six in /usr/local/lib/python3.6/dist-packages (from torchvision==0.2.1->-r requirements.txt (line 3)) (1.11.0)\n",
            "Requirement already satisfied: pillow>=4.1.1 in /usr/local/lib/python3.6/dist-packages (from torchvision==0.2.1->-r requirements.txt (line 3)) (5.2.0)\n",
            "Requirement already satisfied: h5py in /usr/local/lib/python3.6/dist-packages (from keras==2.2.2->-r requirements.txt (line 6)) (2.8.0)\n",
            "Requirement already satisfied: pyyaml in /usr/local/lib/python3.6/dist-packages (from keras==2.2.2->-r requirements.txt (line 6)) (3.13)\n",
            "Requirement already satisfied: keras-preprocessing==1.0.2 in /usr/local/lib/python3.6/dist-packages (from keras==2.2.2->-r requirements.txt (line 6)) (1.0.2)\n",
            "Requirement already satisfied: keras-applications==1.0.4 in /usr/local/lib/python3.6/dist-packages (from keras==2.2.2->-r requirements.txt (line 6)) (1.0.4)\n",
            "Requirement already satisfied: setuptools<=39.1.0 in /usr/local/lib/python3.6/dist-packages (from tensorflow==1.10.0->-r requirements.txt (line 8)) (39.1.0)\n",
            "Requirement already satisfied: gast>=0.2.0 in /usr/local/lib/python3.6/dist-packages (from tensorflow==1.10.0->-r requirements.txt (line 8)) (0.2.0)\n",
            "Requirement already satisfied: absl-py>=0.1.6 in /usr/local/lib/python3.6/dist-packages (from tensorflow==1.10.0->-r requirements.txt (line 8)) (0.4.1)\n",
            "Requirement already satisfied: grpcio>=1.8.6 in /usr/local/lib/python3.6/dist-packages (from tensorflow==1.10.0->-r requirements.txt (line 8)) (1.15.0)\n",
            "Requirement already satisfied: tensorboard<1.11.0,>=1.10.0 in /usr/local/lib/python3.6/dist-packages (from tensorflow==1.10.0->-r requirements.txt (line 8)) (1.10.0)\n",
            "Requirement already satisfied: termcolor>=1.1.0 in /usr/local/lib/python3.6/dist-packages (from tensorflow==1.10.0->-r requirements.txt (line 8)) (1.1.0)\n",
            "Requirement already satisfied: astor>=0.6.0 in /usr/local/lib/python3.6/dist-packages (from tensorflow==1.10.0->-r requirements.txt (line 8)) (0.7.1)\n",
            "Requirement already satisfied: wheel>=0.26 in /usr/local/lib/python3.6/dist-packages (from tensorflow==1.10.0->-r requirements.txt (line 8)) (0.31.1)\n",
            "Requirement already satisfied: protobuf>=3.6.0 in /usr/local/lib/python3.6/dist-packages (from tensorflow==1.10.0->-r requirements.txt (line 8)) (3.6.1)\n",
            "Requirement already satisfied: more-itertools>=4.0.0 in /usr/local/lib/python3.6/dist-packages (from pytest->-r requirements.txt (line 9)) (4.3.0)\n",
            "Requirement already satisfied: attrs>=17.4.0 in /usr/local/lib/python3.6/dist-packages (from pytest->-r requirements.txt (line 9)) (18.2.0)\n",
            "Requirement already satisfied: atomicwrites>=1.0 in /usr/local/lib/python3.6/dist-packages (from pytest->-r requirements.txt (line 9)) (1.2.1)\n",
            "Requirement already satisfied: pluggy>=0.7 in /usr/local/lib/python3.6/dist-packages (from pytest->-r requirements.txt (line 9)) (0.7.1)\n",
            "Requirement already satisfied: py>=1.5.0 in /usr/local/lib/python3.6/dist-packages (from pytest->-r requirements.txt (line 9)) (1.6.0)\n",
            "Requirement already satisfied: markdown>=2.6.8 in /usr/local/lib/python3.6/dist-packages (from tensorboard<1.11.0,>=1.10.0->tensorflow==1.10.0->-r requirements.txt (line 8)) (2.6.11)\n",
            "Requirement already satisfied: werkzeug>=0.11.10 in /usr/local/lib/python3.6/dist-packages (from tensorboard<1.11.0,>=1.10.0->tensorflow==1.10.0->-r requirements.txt (line 8)) (0.14.1)\n",
            "/usr/lib/python3.6/distutils/dist.py:261: UserWarning: Unknown distribution option: 'install_requires'\n",
            "  warnings.warn(msg)\n",
            "running install\n",
            "running build\n",
            "running build_py\n",
            "creating build\n",
            "creating build/lib\n",
            "creating build/lib/autokeras\n",
            "copying autokeras/image_supervised.py -> build/lib/autokeras\n",
            "copying autokeras/preprocessor.py -> build/lib/autokeras\n",
            "copying autokeras/generator.py -> build/lib/autokeras\n",
            "copying autokeras/supervised.py -> build/lib/autokeras\n",
            "copying autokeras/constant.py -> build/lib/autokeras\n",
            "copying autokeras/model_trainer.py -> build/lib/autokeras\n",
            "copying autokeras/layers.py -> build/lib/autokeras\n",
            "copying autokeras/loss_function.py -> build/lib/autokeras\n",
            "copying autokeras/graph.py -> build/lib/autokeras\n",
            "copying autokeras/search.py -> build/lib/autokeras\n",
            "copying autokeras/net_transformer.py -> build/lib/autokeras\n",
            "copying autokeras/__init__.py -> build/lib/autokeras\n",
            "copying autokeras/utils.py -> build/lib/autokeras\n",
            "copying autokeras/layer_transformer.py -> build/lib/autokeras\n",
            "copying autokeras/gan.py -> build/lib/autokeras\n",
            "copying autokeras/unsupervised.py -> build/lib/autokeras\n",
            "copying autokeras/metric.py -> build/lib/autokeras\n",
            "copying autokeras/bayesian.py -> build/lib/autokeras\n",
            "running install_lib\n",
            "copying build/lib/autokeras/image_supervised.py -> /usr/local/lib/python3.6/dist-packages/autokeras\n",
            "copying build/lib/autokeras/preprocessor.py -> /usr/local/lib/python3.6/dist-packages/autokeras\n",
            "copying build/lib/autokeras/generator.py -> /usr/local/lib/python3.6/dist-packages/autokeras\n",
            "copying build/lib/autokeras/supervised.py -> /usr/local/lib/python3.6/dist-packages/autokeras\n",
            "copying build/lib/autokeras/constant.py -> /usr/local/lib/python3.6/dist-packages/autokeras\n",
            "copying build/lib/autokeras/model_trainer.py -> /usr/local/lib/python3.6/dist-packages/autokeras\n",
            "copying build/lib/autokeras/layers.py -> /usr/local/lib/python3.6/dist-packages/autokeras\n",
            "copying build/lib/autokeras/loss_function.py -> /usr/local/lib/python3.6/dist-packages/autokeras\n",
            "copying build/lib/autokeras/graph.py -> /usr/local/lib/python3.6/dist-packages/autokeras\n",
            "copying build/lib/autokeras/search.py -> /usr/local/lib/python3.6/dist-packages/autokeras\n",
            "copying build/lib/autokeras/net_transformer.py -> /usr/local/lib/python3.6/dist-packages/autokeras\n",
            "copying build/lib/autokeras/__init__.py -> /usr/local/lib/python3.6/dist-packages/autokeras\n",
            "copying build/lib/autokeras/utils.py -> /usr/local/lib/python3.6/dist-packages/autokeras\n",
            "copying build/lib/autokeras/layer_transformer.py -> /usr/local/lib/python3.6/dist-packages/autokeras\n",
            "copying build/lib/autokeras/gan.py -> /usr/local/lib/python3.6/dist-packages/autokeras\n",
            "copying build/lib/autokeras/unsupervised.py -> /usr/local/lib/python3.6/dist-packages/autokeras\n",
            "copying build/lib/autokeras/metric.py -> /usr/local/lib/python3.6/dist-packages/autokeras\n",
            "copying build/lib/autokeras/bayesian.py -> /usr/local/lib/python3.6/dist-packages/autokeras\n",
            "byte-compiling /usr/local/lib/python3.6/dist-packages/autokeras/image_supervised.py to image_supervised.cpython-36.pyc\n",
            "byte-compiling /usr/local/lib/python3.6/dist-packages/autokeras/preprocessor.py to preprocessor.cpython-36.pyc\n",
            "byte-compiling /usr/local/lib/python3.6/dist-packages/autokeras/generator.py to generator.cpython-36.pyc\n",
            "byte-compiling /usr/local/lib/python3.6/dist-packages/autokeras/supervised.py to supervised.cpython-36.pyc\n",
            "byte-compiling /usr/local/lib/python3.6/dist-packages/autokeras/constant.py to constant.cpython-36.pyc\n",
            "byte-compiling /usr/local/lib/python3.6/dist-packages/autokeras/model_trainer.py to model_trainer.cpython-36.pyc\n",
            "byte-compiling /usr/local/lib/python3.6/dist-packages/autokeras/layers.py to layers.cpython-36.pyc\n",
            "byte-compiling /usr/local/lib/python3.6/dist-packages/autokeras/loss_function.py to loss_function.cpython-36.pyc\n",
            "byte-compiling /usr/local/lib/python3.6/dist-packages/autokeras/graph.py to graph.cpython-36.pyc\n",
            "byte-compiling /usr/local/lib/python3.6/dist-packages/autokeras/search.py to search.cpython-36.pyc\n",
            "byte-compiling /usr/local/lib/python3.6/dist-packages/autokeras/net_transformer.py to net_transformer.cpython-36.pyc\n",
            "byte-compiling /usr/local/lib/python3.6/dist-packages/autokeras/__init__.py to __init__.cpython-36.pyc\n",
            "byte-compiling /usr/local/lib/python3.6/dist-packages/autokeras/utils.py to utils.cpython-36.pyc\n",
            "byte-compiling /usr/local/lib/python3.6/dist-packages/autokeras/layer_transformer.py to layer_transformer.cpython-36.pyc\n",
            "byte-compiling /usr/local/lib/python3.6/dist-packages/autokeras/gan.py to gan.cpython-36.pyc\n",
            "byte-compiling /usr/local/lib/python3.6/dist-packages/autokeras/unsupervised.py to unsupervised.cpython-36.pyc\n",
            "byte-compiling /usr/local/lib/python3.6/dist-packages/autokeras/metric.py to metric.cpython-36.pyc\n",
            "byte-compiling /usr/local/lib/python3.6/dist-packages/autokeras/bayesian.py to bayesian.cpython-36.pyc\n",
            "running install_egg_info\n",
            "Writing /usr/local/lib/python3.6/dist-packages/autokeras-0.2.14.egg-info\n"
          ],
          "name": "stdout"
        }
      ]
    },
    {
      "metadata": {
        "id": "eA_kACvUJyY0",
        "colab_type": "code",
        "colab": {
          "base_uri": "https://localhost:8080/",
          "height": 119
        },
        "outputId": "a3470516-0248-40a2-cbef-314877d8fdb3"
      },
      "cell_type": "code",
      "source": [
        "!ls -la"
      ],
      "execution_count": 2,
      "outputs": [
        {
          "output_type": "stream",
          "text": [
            "total 20\n",
            "drwxr-xr-x 1 root root 4096 Sep 18 00:48 .\n",
            "drwxr-xr-x 1 root root 4096 Sep 18 00:37 ..\n",
            "drwxr-xr-x 8 root root 4096 Sep 18 00:48 autokeras\n",
            "drwxr-xr-x 4 root root 4096 Sep 13 17:08 .config\n",
            "drwxr-xr-x 2 root root 4096 Sep 13 17:28 sample_data\n"
          ],
          "name": "stdout"
        }
      ]
    },
    {
      "metadata": {
        "id": "epaOv3FZHHtl",
        "colab_type": "code",
        "colab": {
          "base_uri": "https://localhost:8080/",
          "height": 88
        },
        "outputId": "b62eefb6-5064-412f-a501-a5f7e5148524"
      },
      "cell_type": "code",
      "source": [
        "from keras.datasets import mnist\n",
        "from autokeras import ImageClassifier\n",
        "import tensorflow"
      ],
      "execution_count": 5,
      "outputs": [
        {
          "output_type": "stream",
          "text": [
            "Using TensorFlow backend.\n",
            "/usr/local/lib/python3.6/dist-packages/tqdm/autonotebook/__init__.py:14: TqdmExperimentalWarning: Using `tqdm.autonotebook.tqdm` in notebook mode. Use `tqdm.tqdm` instead to force console mode (e.g. in jupyter console)\n",
            "  \" (e.g. in jupyter console)\", TqdmExperimentalWarning)\n"
          ],
          "name": "stderr"
        }
      ]
    },
    {
      "metadata": {
        "id": "Py2edfmJI3mx",
        "colab_type": "code",
        "colab": {
          "base_uri": "https://localhost:8080/",
          "height": 34
        },
        "outputId": "3b1e7cc1-7dbe-4450-ba84-c25de6b30182"
      },
      "cell_type": "code",
      "source": [
        "print(tensorflow.__version__)\n",
        "(x_train, y_train), (x_test, y_test) = mnist.load_data()\n",
        "x_train = x_train.reshape(x_train.shape+(1,))\n",
        "x_test = x_test.reshape(x_test.shape+(1,))"
      ],
      "execution_count": 6,
      "outputs": [
        {
          "output_type": "stream",
          "text": [
            "1.10.0\n"
          ],
          "name": "stdout"
        }
      ]
    },
    {
      "metadata": {
        "id": "hOqAuZAzHKUe",
        "colab_type": "code",
        "colab": {}
      },
      "cell_type": "code",
      "source": [
        "clf = ImageClassifier(verbose=True, augment=False)"
      ],
      "execution_count": 0,
      "outputs": []
    },
    {
      "metadata": {
        "id": "40kh6UWrI-wq",
        "colab_type": "code",
        "colab": {
          "base_uri": "https://localhost:8080/",
          "height": 153
        },
        "outputId": "6822a711-ceaa-4872-aa34-6d038bcd73b6"
      },
      "cell_type": "code",
      "source": [
        "clf.fit(x_train, y_train, time_limit=12 * 60 * 60)\n",
        "clf.final_fit(x_train, y_train, x_test, y_test, retrain=True)"
      ],
      "execution_count": 0,
      "outputs": [
        {
          "output_type": "stream",
          "text": [
            "\n",
            "Initializing search.\n",
            "Initialization finished.\n",
            "\n",
            "\n",
            "╒==============================================╕\n",
            "|               Training model 0               |\n",
            "╘==============================================╛\n"
          ],
          "name": "stdout"
        }
      ]
    }
  ]
}